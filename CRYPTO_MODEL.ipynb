{
 "cells": [
  {
   "cell_type": "markdown",
   "metadata": {},
   "source": [
    "# STOCK/CRPYTO PRICE PREDICTION MODEL\n",
    "\n",
    "## The following code is an example on how to use simple data analysis tolls in order to set up a simple strategy for long and short term financial trading\n",
    "\n",
    "### We will make use of the programing language python (3.x) which suits nicely for data anlysis"
   ]
  },
  {
   "cell_type": "markdown",
   "metadata": {},
   "source": [
    "## --> This a very is simplified model for trading. One should always invest just as much money as one can afford to loose and do own studies in advance. "
   ]
  },
  {
   "cell_type": "markdown",
   "metadata": {},
   "source": [
    "## Required modules:\n",
    "- numpy: the code is designed to be vectorized such that the numpy module can be used and calculations performed fast\n",
    "- pandas: module for illustrative data frames\n",
    "- yfinance: api module provided by yahoo finance to get current and previous asset prices\n",
    "- matplotlib: (sub)module(s) for plots\n",
    "- scipy: (sub)module for statistical and signal analysis"
   ]
  },
  {
   "cell_type": "markdown",
   "metadata": {},
   "source": [
    "### CELLS YOU DO NOT NEED TO EXECUTE:"
   ]
  },
  {
   "cell_type": "code",
   "execution_count": 10,
   "metadata": {},
   "outputs": [],
   "source": [
    "%load_ext autoreload\n",
    "%autoreload 2\n",
    "import matplotlib.pyplot as plt\n",
    "import numpy as np"
   ]
  },
  {
   "cell_type": "markdown",
   "metadata": {},
   "source": [
    "### CELLS YOU CAN EXECUTE OPTIONALLY: "
   ]
  },
  {
   "cell_type": "markdown",
   "metadata": {},
   "source": [
    "#### --> This does not toggle the output of a cell:"
   ]
  },
  {
   "cell_type": "code",
   "execution_count": 1,
   "metadata": {},
   "outputs": [
    {
     "data": {
      "application/javascript": [
       "IPython.OutputArea.auto_scroll_threshold = 9999\n"
      ],
      "text/plain": [
       "<IPython.core.display.Javascript object>"
      ]
     },
     "metadata": {},
     "output_type": "display_data"
    }
   ],
   "source": [
    "%%javascript\n",
    "IPython.OutputArea.auto_scroll_threshold = 9999"
   ]
  },
  {
   "cell_type": "markdown",
   "metadata": {},
   "source": [
    "### CELLS YOU NEED TO EXECUTE IN ORDER TO BE UP-TO-DATE:"
   ]
  },
  {
   "cell_type": "code",
   "execution_count": null,
   "metadata": {},
   "outputs": [],
   "source": [
    "your_path_to_folder_called_FINANCE = '###INSERT YOUR PATH HERE###'\n",
    "import sys\n",
    "sys.path.append(your_path_to_folder_called_FINANCE)"
   ]
  },
  {
   "cell_type": "code",
   "execution_count": 3,
   "metadata": {},
   "outputs": [],
   "source": [
    "from model import MODEL\n",
    "import utils, plotting, statistics\n",
    "import pandas as pd"
   ]
  },
  {
   "cell_type": "markdown",
   "metadata": {},
   "source": [
    "### CELLS YOU CAN MODIFY:"
   ]
  },
  {
   "cell_type": "markdown",
   "metadata": {},
   "source": [
    "#### WARNING: Do not mix tickers from different markets/timezones. This can result in various NaN values if a filter is applied!"
   ]
  },
  {
   "cell_type": "code",
   "execution_count": 77,
   "metadata": {},
   "outputs": [],
   "source": [
    "start_date = '2019-01-01' #your start date for the model.\n",
    "day_hour = 18 #your intra-day time at which to evaluate the model.\n",
    "tickers = ['BTC-USD', 'LTC-USD'] #your tickers of interest.\n",
    "tickers = 'BTC-USD'"
   ]
  },
  {
   "cell_type": "markdown",
   "metadata": {},
   "source": [
    "### The main part starts here:"
   ]
  },
  {
   "cell_type": "code",
   "execution_count": 78,
   "metadata": {},
   "outputs": [
    {
     "name": "stdout",
     "output_type": "stream",
     "text": [
      "[*********************100%***********************]  1 of 1 completed\n"
     ]
    },
    {
     "data": {
      "text/html": [
       "<div>\n",
       "<style scoped>\n",
       "    .dataframe tbody tr th:only-of-type {\n",
       "        vertical-align: middle;\n",
       "    }\n",
       "\n",
       "    .dataframe tbody tr th {\n",
       "        vertical-align: top;\n",
       "    }\n",
       "\n",
       "    .dataframe thead th {\n",
       "        text-align: right;\n",
       "    }\n",
       "</style>\n",
       "<table border=\"1\" class=\"dataframe\">\n",
       "  <thead>\n",
       "    <tr style=\"text-align: right;\">\n",
       "      <th></th>\n",
       "      <th>BTC-USD</th>\n",
       "    </tr>\n",
       "    <tr>\n",
       "      <th>Datetime</th>\n",
       "      <th></th>\n",
       "    </tr>\n",
       "  </thead>\n",
       "  <tbody>\n",
       "    <tr>\n",
       "      <th>2020-05-24 20:00:00+01:00</th>\n",
       "      <td>8960.511719</td>\n",
       "    </tr>\n",
       "    <tr>\n",
       "      <th>2020-05-24 20:17:28+01:00</th>\n",
       "      <td>8963.127930</td>\n",
       "    </tr>\n",
       "  </tbody>\n",
       "</table>\n",
       "</div>"
      ],
      "text/plain": [
       "                               BTC-USD\n",
       "Datetime                              \n",
       "2020-05-24 20:00:00+01:00  8960.511719\n",
       "2020-05-24 20:17:28+01:00  8963.127930"
      ]
     },
     "execution_count": 78,
     "metadata": {},
     "output_type": "execute_result"
    }
   ],
   "source": [
    "model = MODEL(tickers=tickers)\n",
    "model.get_data(start=start_date, interval='60m')\n",
    "model.data.tail(2)"
   ]
  },
  {
   "cell_type": "code",
   "execution_count": 79,
   "metadata": {},
   "outputs": [
    {
     "name": "stdout",
     "output_type": "stream",
     "text": [
      "[WARNING]: Filter would result in 10 NaN values.\n",
      "[USER-INPUT]: Remove NaN values?: y\n",
      "[INFO]: filter applied.\n"
     ]
    },
    {
     "data": {
      "text/html": [
       "<div>\n",
       "<style scoped>\n",
       "    .dataframe tbody tr th:only-of-type {\n",
       "        vertical-align: middle;\n",
       "    }\n",
       "\n",
       "    .dataframe tbody tr th {\n",
       "        vertical-align: top;\n",
       "    }\n",
       "\n",
       "    .dataframe thead th {\n",
       "        text-align: right;\n",
       "    }\n",
       "</style>\n",
       "<table border=\"1\" class=\"dataframe\">\n",
       "  <thead>\n",
       "    <tr style=\"text-align: right;\">\n",
       "      <th></th>\n",
       "      <th>BTC-USD</th>\n",
       "    </tr>\n",
       "    <tr>\n",
       "      <th>Datetime</th>\n",
       "      <th></th>\n",
       "    </tr>\n",
       "  </thead>\n",
       "  <tbody>\n",
       "    <tr>\n",
       "      <th>2020-05-20 18:00:00+01:00</th>\n",
       "      <td>9528.734375</td>\n",
       "    </tr>\n",
       "    <tr>\n",
       "      <th>2020-05-21 18:00:00+01:00</th>\n",
       "      <td>9037.529297</td>\n",
       "    </tr>\n",
       "    <tr>\n",
       "      <th>2020-05-22 18:00:00+01:00</th>\n",
       "      <td>9194.964844</td>\n",
       "    </tr>\n",
       "    <tr>\n",
       "      <th>2020-05-23 18:00:00+01:00</th>\n",
       "      <td>9184.837891</td>\n",
       "    </tr>\n",
       "    <tr>\n",
       "      <th>2020-05-24 18:00:00+01:00</th>\n",
       "      <td>8961.804688</td>\n",
       "    </tr>\n",
       "  </tbody>\n",
       "</table>\n",
       "</div>"
      ],
      "text/plain": [
       "                               BTC-USD\n",
       "Datetime                              \n",
       "2020-05-20 18:00:00+01:00  9528.734375\n",
       "2020-05-21 18:00:00+01:00  9037.529297\n",
       "2020-05-22 18:00:00+01:00  9194.964844\n",
       "2020-05-23 18:00:00+01:00  9184.837891\n",
       "2020-05-24 18:00:00+01:00  8961.804688"
      ]
     },
     "execution_count": 79,
     "metadata": {},
     "output_type": "execute_result"
    }
   ],
   "source": [
    "start_date_range = pd.Timestamp(2019, 1, 1, day_hour)\n",
    "date_range = utils.create_date_range(start_date=start_date_range)\n",
    "model.apply_date_filter(date_range)\n",
    "model.data.tail()"
   ]
  },
  {
   "cell_type": "code",
   "execution_count": 80,
   "metadata": {},
   "outputs": [
    {
     "name": "stdout",
     "output_type": "stream",
     "text": [
      "==================================================================================\n",
      "|                                  PRICE MODEL                                   |\n",
      "|                                  Version 0.3                                   |\n",
      "|                   Authors: Marco Rosenzweig & Patrick Lorenz                   |\n",
      "----------------------------------------------------------------------------------\n",
      "|                              ticker = ['BTC-USD']                              |\n",
      "|                             start date = 01/01/19                              |\n",
      "|                              end date = 05/24/20                               |\n",
      "|                      initial investment per ticker = 200                       |\n",
      "==================================================================================\n",
      "[INIT]: Initialising model for tickers: ['BTC-USD']\n",
      "[INIT]: Successfully initialized model.\n",
      "**********************************************************************************\n",
      "[TICKER]: BTC-USD\n",
      "[INFO]: 2756.03 tax was paid.\n",
      "----------------------------------------------------------------------------------\n",
      "[SUMMARY]: Average trade win: 6.4564962036%\n",
      "[SUMMARY]: Average trade loss: -1.0179408227%\n",
      "[SUMMARY]: Efficiency: 76.92%\n",
      "[SUMMARY]: NET WIN: 8268.10\n",
      "==================================================================================\n"
     ]
    }
   ],
   "source": [
    "model.eval_model()"
   ]
  },
  {
   "cell_type": "code",
   "execution_count": 81,
   "metadata": {},
   "outputs": [
    {
     "data": {
      "image/png": "[encoded data removed]",
      "text/plain": [
       "<Figure size 1152x648 with 2 Axes>"
      ]
     },
     "metadata": {
      "needs_background": "light"
     },
     "output_type": "display_data"
    }
   ],
   "source": [
    "plotting.plot_model(model, tickers='BTC-USD', plot_from_date='2020-04-01')"
   ]
  },
  {
   "cell_type": "code",
   "execution_count": 82,
   "metadata": {},
   "outputs": [
    {
     "name": "stdout",
     "output_type": "stream",
     "text": [
      "[INFO]: New data was appended.\n",
      "[INFO]: Compute break values with 30.00% deviation\n",
      "[INFO]: Current ticker: BTC-USD\n",
      "[INFO]: Using 10 processes.\n"
     ]
    },
    {
     "ename": "PicklingError",
     "evalue": "Can't pickle <class 'model.MODEL'>: it's not the same object as model.MODEL",
     "output_type": "error",
     "traceback": [
      "\u001b[0;31m---------------------------------------------------------------------------\u001b[0m",
      "\u001b[0;31mPicklingError\u001b[0m                             Traceback (most recent call last)",
      "\u001b[0;32m<ipython-input-82-286ace717701>\u001b[0m in \u001b[0;36m<module>\u001b[0;34m\u001b[0m\n\u001b[1;32m      1\u001b[0m \u001b[0mimag_model\u001b[0m \u001b[0;34m=\u001b[0m \u001b[0mmodel\u001b[0m\u001b[0;34m.\u001b[0m\u001b[0mcopy_model\u001b[0m\u001b[0;34m(\u001b[0m\u001b[0;34m)\u001b[0m\u001b[0;34m\u001b[0m\u001b[0;34m\u001b[0m\u001b[0m\n\u001b[1;32m      2\u001b[0m \u001b[0mimag_model\u001b[0m\u001b[0;34m.\u001b[0m\u001b[0mappend_timedelta\u001b[0m\u001b[0;34m(\u001b[0m\u001b[0mtimedelta\u001b[0m\u001b[0;34m=\u001b[0m\u001b[0;36m1\u001b[0m\u001b[0;34m)\u001b[0m\u001b[0;34m\u001b[0m\u001b[0;34m\u001b[0m\u001b[0m\n\u001b[0;32m----> 3\u001b[0;31m \u001b[0mimag_model\u001b[0m\u001b[0;34m.\u001b[0m\u001b[0mcomp_break_values\u001b[0m\u001b[0;34m(\u001b[0m\u001b[0mtickers\u001b[0m\u001b[0;34m=\u001b[0m\u001b[0;34m'all'\u001b[0m\u001b[0;34m,\u001b[0m \u001b[0mparallel_computing\u001b[0m\u001b[0;34m=\u001b[0m\u001b[0;32mTrue\u001b[0m\u001b[0;34m)\u001b[0m\u001b[0;34m\u001b[0m\u001b[0;34m\u001b[0m\u001b[0m\n\u001b[0m\u001b[1;32m      4\u001b[0m \u001b[0mimag_model\u001b[0m\u001b[0;34m.\u001b[0m\u001b[0m_init_model\u001b[0m\u001b[0;34m(\u001b[0m\u001b[0;34m)\u001b[0m\u001b[0;34m\u001b[0m\u001b[0;34m\u001b[0m\u001b[0m\n",
      "\u001b[0;32m~/Documents/FINANCE/model.py\u001b[0m in \u001b[0;36mcomp_break_values\u001b[0;34m(self, tickers, refactor_step_size, append_break_values, parallel_computing, *args, **kwargs)\u001b[0m\n\u001b[1;32m    302\u001b[0m                 \u001b[0minputs_partial\u001b[0m \u001b[0;34m=\u001b[0m \u001b[0mpartial\u001b[0m\u001b[0;34m(\u001b[0m\u001b[0mself\u001b[0m\u001b[0;34m.\u001b[0m\u001b[0m_comp_bvs\u001b[0m\u001b[0;34m,\u001b[0m \u001b[0mimag_model\u001b[0m\u001b[0;34m,\u001b[0m \u001b[0mticker\u001b[0m\u001b[0;34m)\u001b[0m\u001b[0;34m\u001b[0m\u001b[0;34m\u001b[0m\u001b[0m\n\u001b[1;32m    303\u001b[0m                 \u001b[0;32mwith\u001b[0m \u001b[0mmp\u001b[0m\u001b[0;34m.\u001b[0m\u001b[0mPool\u001b[0m\u001b[0;34m(\u001b[0m\u001b[0mprocesses\u001b[0m\u001b[0;34m=\u001b[0m\u001b[0mn_procs\u001b[0m\u001b[0;34m)\u001b[0m \u001b[0;32mas\u001b[0m \u001b[0mpool\u001b[0m\u001b[0;34m:\u001b[0m\u001b[0;34m\u001b[0m\u001b[0;34m\u001b[0m\u001b[0m\n\u001b[0;32m--> 304\u001b[0;31m                     \u001b[0mbvs\u001b[0m \u001b[0;34m=\u001b[0m \u001b[0mpool\u001b[0m\u001b[0;34m.\u001b[0m\u001b[0mmap\u001b[0m\u001b[0;34m(\u001b[0m\u001b[0minputs_partial\u001b[0m\u001b[0;34m,\u001b[0m \u001b[0mrng_list\u001b[0m\u001b[0;34m)\u001b[0m\u001b[0;34m\u001b[0m\u001b[0;34m\u001b[0m\u001b[0m\n\u001b[0m\u001b[1;32m    305\u001b[0m                 \u001b[0mbv_final\u001b[0m \u001b[0;34m=\u001b[0m \u001b[0;34m[\u001b[0m\u001b[0;32mNone\u001b[0m\u001b[0;34m,\u001b[0m \u001b[0;32mNone\u001b[0m\u001b[0;34m]\u001b[0m\u001b[0;34m\u001b[0m\u001b[0;34m\u001b[0m\u001b[0m\n\u001b[1;32m    306\u001b[0m                 \u001b[0;32mfor\u001b[0m \u001b[0mbv_list\u001b[0m \u001b[0;32min\u001b[0m \u001b[0mbvs\u001b[0m\u001b[0;34m:\u001b[0m\u001b[0;34m\u001b[0m\u001b[0;34m\u001b[0m\u001b[0m\n",
      "\u001b[0;32m/opt/anaconda3/lib/python3.7/multiprocessing/pool.py\u001b[0m in \u001b[0;36mmap\u001b[0;34m(self, func, iterable, chunksize)\u001b[0m\n\u001b[1;32m    266\u001b[0m         \u001b[0;32min\u001b[0m \u001b[0ma\u001b[0m \u001b[0mlist\u001b[0m \u001b[0mthat\u001b[0m \u001b[0;32mis\u001b[0m \u001b[0mreturned\u001b[0m\u001b[0;34m.\u001b[0m\u001b[0;34m\u001b[0m\u001b[0;34m\u001b[0m\u001b[0m\n\u001b[1;32m    267\u001b[0m         '''\n\u001b[0;32m--> 268\u001b[0;31m         \u001b[0;32mreturn\u001b[0m \u001b[0mself\u001b[0m\u001b[0;34m.\u001b[0m\u001b[0m_map_async\u001b[0m\u001b[0;34m(\u001b[0m\u001b[0mfunc\u001b[0m\u001b[0;34m,\u001b[0m \u001b[0miterable\u001b[0m\u001b[0;34m,\u001b[0m \u001b[0mmapstar\u001b[0m\u001b[0;34m,\u001b[0m \u001b[0mchunksize\u001b[0m\u001b[0;34m)\u001b[0m\u001b[0;34m.\u001b[0m\u001b[0mget\u001b[0m\u001b[0;34m(\u001b[0m\u001b[0;34m)\u001b[0m\u001b[0;34m\u001b[0m\u001b[0;34m\u001b[0m\u001b[0m\n\u001b[0m\u001b[1;32m    269\u001b[0m \u001b[0;34m\u001b[0m\u001b[0m\n\u001b[1;32m    270\u001b[0m     \u001b[0;32mdef\u001b[0m \u001b[0mstarmap\u001b[0m\u001b[0;34m(\u001b[0m\u001b[0mself\u001b[0m\u001b[0;34m,\u001b[0m \u001b[0mfunc\u001b[0m\u001b[0;34m,\u001b[0m \u001b[0miterable\u001b[0m\u001b[0;34m,\u001b[0m \u001b[0mchunksize\u001b[0m\u001b[0;34m=\u001b[0m\u001b[0;32mNone\u001b[0m\u001b[0;34m)\u001b[0m\u001b[0;34m:\u001b[0m\u001b[0;34m\u001b[0m\u001b[0;34m\u001b[0m\u001b[0m\n",
      "\u001b[0;32m/opt/anaconda3/lib/python3.7/multiprocessing/pool.py\u001b[0m in \u001b[0;36mget\u001b[0;34m(self, timeout)\u001b[0m\n\u001b[1;32m    655\u001b[0m             \u001b[0;32mreturn\u001b[0m \u001b[0mself\u001b[0m\u001b[0;34m.\u001b[0m\u001b[0m_value\u001b[0m\u001b[0;34m\u001b[0m\u001b[0;34m\u001b[0m\u001b[0m\n\u001b[1;32m    656\u001b[0m         \u001b[0;32melse\u001b[0m\u001b[0;34m:\u001b[0m\u001b[0;34m\u001b[0m\u001b[0;34m\u001b[0m\u001b[0m\n\u001b[0;32m--> 657\u001b[0;31m             \u001b[0;32mraise\u001b[0m \u001b[0mself\u001b[0m\u001b[0;34m.\u001b[0m\u001b[0m_value\u001b[0m\u001b[0;34m\u001b[0m\u001b[0;34m\u001b[0m\u001b[0m\n\u001b[0m\u001b[1;32m    658\u001b[0m \u001b[0;34m\u001b[0m\u001b[0m\n\u001b[1;32m    659\u001b[0m     \u001b[0;32mdef\u001b[0m \u001b[0m_set\u001b[0m\u001b[0;34m(\u001b[0m\u001b[0mself\u001b[0m\u001b[0;34m,\u001b[0m \u001b[0mi\u001b[0m\u001b[0;34m,\u001b[0m \u001b[0mobj\u001b[0m\u001b[0;34m)\u001b[0m\u001b[0;34m:\u001b[0m\u001b[0;34m\u001b[0m\u001b[0;34m\u001b[0m\u001b[0m\n",
      "\u001b[0;32m/opt/anaconda3/lib/python3.7/multiprocessing/pool.py\u001b[0m in \u001b[0;36m_handle_tasks\u001b[0;34m(taskqueue, put, outqueue, pool, cache)\u001b[0m\n\u001b[1;32m    429\u001b[0m                         \u001b[0;32mbreak\u001b[0m\u001b[0;34m\u001b[0m\u001b[0;34m\u001b[0m\u001b[0m\n\u001b[1;32m    430\u001b[0m                     \u001b[0;32mtry\u001b[0m\u001b[0;34m:\u001b[0m\u001b[0;34m\u001b[0m\u001b[0;34m\u001b[0m\u001b[0m\n\u001b[0;32m--> 431\u001b[0;31m                         \u001b[0mput\u001b[0m\u001b[0;34m(\u001b[0m\u001b[0mtask\u001b[0m\u001b[0;34m)\u001b[0m\u001b[0;34m\u001b[0m\u001b[0;34m\u001b[0m\u001b[0m\n\u001b[0m\u001b[1;32m    432\u001b[0m                     \u001b[0;32mexcept\u001b[0m \u001b[0mException\u001b[0m \u001b[0;32mas\u001b[0m \u001b[0me\u001b[0m\u001b[0;34m:\u001b[0m\u001b[0;34m\u001b[0m\u001b[0;34m\u001b[0m\u001b[0m\n\u001b[1;32m    433\u001b[0m                         \u001b[0mjob\u001b[0m\u001b[0;34m,\u001b[0m \u001b[0midx\u001b[0m \u001b[0;34m=\u001b[0m \u001b[0mtask\u001b[0m\u001b[0;34m[\u001b[0m\u001b[0;34m:\u001b[0m\u001b[0;36m2\u001b[0m\u001b[0;34m]\u001b[0m\u001b[0;34m\u001b[0m\u001b[0;34m\u001b[0m\u001b[0m\n",
      "\u001b[0;32m/opt/anaconda3/lib/python3.7/multiprocessing/connection.py\u001b[0m in \u001b[0;36msend\u001b[0;34m(self, obj)\u001b[0m\n\u001b[1;32m    204\u001b[0m         \u001b[0mself\u001b[0m\u001b[0;34m.\u001b[0m\u001b[0m_check_closed\u001b[0m\u001b[0;34m(\u001b[0m\u001b[0;34m)\u001b[0m\u001b[0;34m\u001b[0m\u001b[0;34m\u001b[0m\u001b[0m\n\u001b[1;32m    205\u001b[0m         \u001b[0mself\u001b[0m\u001b[0;34m.\u001b[0m\u001b[0m_check_writable\u001b[0m\u001b[0;34m(\u001b[0m\u001b[0;34m)\u001b[0m\u001b[0;34m\u001b[0m\u001b[0;34m\u001b[0m\u001b[0m\n\u001b[0;32m--> 206\u001b[0;31m         \u001b[0mself\u001b[0m\u001b[0;34m.\u001b[0m\u001b[0m_send_bytes\u001b[0m\u001b[0;34m(\u001b[0m\u001b[0m_ForkingPickler\u001b[0m\u001b[0;34m.\u001b[0m\u001b[0mdumps\u001b[0m\u001b[0;34m(\u001b[0m\u001b[0mobj\u001b[0m\u001b[0;34m)\u001b[0m\u001b[0;34m)\u001b[0m\u001b[0;34m\u001b[0m\u001b[0;34m\u001b[0m\u001b[0m\n\u001b[0m\u001b[1;32m    207\u001b[0m \u001b[0;34m\u001b[0m\u001b[0m\n\u001b[1;32m    208\u001b[0m     \u001b[0;32mdef\u001b[0m \u001b[0mrecv_bytes\u001b[0m\u001b[0;34m(\u001b[0m\u001b[0mself\u001b[0m\u001b[0;34m,\u001b[0m \u001b[0mmaxlength\u001b[0m\u001b[0;34m=\u001b[0m\u001b[0;32mNone\u001b[0m\u001b[0;34m)\u001b[0m\u001b[0;34m:\u001b[0m\u001b[0;34m\u001b[0m\u001b[0;34m\u001b[0m\u001b[0m\n",
      "\u001b[0;32m/opt/anaconda3/lib/python3.7/multiprocessing/reduction.py\u001b[0m in \u001b[0;36mdumps\u001b[0;34m(cls, obj, protocol)\u001b[0m\n\u001b[1;32m     49\u001b[0m     \u001b[0;32mdef\u001b[0m \u001b[0mdumps\u001b[0m\u001b[0;34m(\u001b[0m\u001b[0mcls\u001b[0m\u001b[0;34m,\u001b[0m \u001b[0mobj\u001b[0m\u001b[0;34m,\u001b[0m \u001b[0mprotocol\u001b[0m\u001b[0;34m=\u001b[0m\u001b[0;32mNone\u001b[0m\u001b[0;34m)\u001b[0m\u001b[0;34m:\u001b[0m\u001b[0;34m\u001b[0m\u001b[0;34m\u001b[0m\u001b[0m\n\u001b[1;32m     50\u001b[0m         \u001b[0mbuf\u001b[0m \u001b[0;34m=\u001b[0m \u001b[0mio\u001b[0m\u001b[0;34m.\u001b[0m\u001b[0mBytesIO\u001b[0m\u001b[0;34m(\u001b[0m\u001b[0;34m)\u001b[0m\u001b[0;34m\u001b[0m\u001b[0;34m\u001b[0m\u001b[0m\n\u001b[0;32m---> 51\u001b[0;31m         \u001b[0mcls\u001b[0m\u001b[0;34m(\u001b[0m\u001b[0mbuf\u001b[0m\u001b[0;34m,\u001b[0m \u001b[0mprotocol\u001b[0m\u001b[0;34m)\u001b[0m\u001b[0;34m.\u001b[0m\u001b[0mdump\u001b[0m\u001b[0;34m(\u001b[0m\u001b[0mobj\u001b[0m\u001b[0;34m)\u001b[0m\u001b[0;34m\u001b[0m\u001b[0;34m\u001b[0m\u001b[0m\n\u001b[0m\u001b[1;32m     52\u001b[0m         \u001b[0;32mreturn\u001b[0m \u001b[0mbuf\u001b[0m\u001b[0;34m.\u001b[0m\u001b[0mgetbuffer\u001b[0m\u001b[0;34m(\u001b[0m\u001b[0;34m)\u001b[0m\u001b[0;34m\u001b[0m\u001b[0;34m\u001b[0m\u001b[0m\n\u001b[1;32m     53\u001b[0m \u001b[0;34m\u001b[0m\u001b[0m\n",
      "\u001b[0;31mPicklingError\u001b[0m: Can't pickle <class 'model.MODEL'>: it's not the same object as model.MODEL"
     ]
    }
   ],
   "source": [
    "imag_model = model.copy_model()\n",
    "imag_model.append_timedelta(timedelta=1)\n",
    "imag_model.comp_break_values(tickers='all', parallel_computing=True)\n",
    "imag_model._init_model()"
   ]
  },
  {
   "cell_type": "code",
   "execution_count": null,
   "metadata": {},
   "outputs": [],
   "source": [
    "imag_model.show_possibilities(plot_from_date='2020-04-01', switch_axes=False)"
   ]
  },
  {
   "cell_type": "code",
   "execution_count": null,
   "metadata": {
    "scrolled": false
   },
   "outputs": [],
   "source": [
    "statistics.calc_probs(model=imag_model, tickers='all', auto_update_tolerances=True)"
   ]
  },
  {
   "cell_type": "code",
   "execution_count": 12,
   "metadata": {},
   "outputs": [],
   "source": [
    "br = pd.read_csv('https://btc.com/stats/diff/export')\n",
    "blocks = br['height']"
   ]
  },
  {
   "cell_type": "code",
   "execution_count": 13,
   "metadata": {},
   "outputs": [],
   "source": [
    "halving_values = np.arange(1, 10)\n",
    "halving_times = 210000\n",
    "halvings = halving_times * halving_values"
   ]
  },
  {
   "cell_type": "code",
   "execution_count": 14,
   "metadata": {},
   "outputs": [],
   "source": [
    "halving_values = np.arange(1, 10)\n",
    "halving_times = 210000\n",
    "halvings = halving_times * halving_values\n",
    "#3 halvings\n",
    "indices = np.zeros(4, dtype='int64')\n",
    "for index in range(4):\n",
    "    indices[index] = np.where(blocks < halvings[index])[0][-1]"
   ]
  },
  {
   "cell_type": "code",
   "execution_count": 15,
   "metadata": {},
   "outputs": [],
   "source": [
    "rewards = np.empty_like(blocks, dtype='float64')\n",
    "rewards[:indices[0]] = 50\n",
    "rewards[indices[0]:indices[1]] = 25\n",
    "rewards[indices[1]:indices[2]] = 12.5\n",
    "rewards[indices[2]:] = 6.25"
   ]
  },
  {
   "cell_type": "code",
   "execution_count": 16,
   "metadata": {},
   "outputs": [],
   "source": [
    "total_btc = rewards * blocks\n",
    "total_btc[indices[0]:indices[1]] = 210000*50 + (blocks[indices[0]:indices[1]] - 210000)*rewards[indices[0]:indices[1]]\n",
    "total_btc[indices[1]:indices[2]] = 210000*50 + 210000*25 + (blocks[indices[1]:indices[2]] - 420000)*rewards[indices[1]:indices[2]]\n",
    "total_btc[indices[2]:] = 210000*50 + 210000*25 + 210000*12.5 + (blocks[indices[2]:] - 630000)*rewards[indices[2]:]"
   ]
  },
  {
   "cell_type": "code",
   "execution_count": 17,
   "metadata": {},
   "outputs": [],
   "source": [
    "#subtract 1e6 satoshi btc\n",
    "SF = (total_btc.values[total_btc.diff(26).dropna().shape[0]]-1e6) / total_btc.diff(26).dropna()"
   ]
  },
  {
   "cell_type": "code",
   "execution_count": 18,
   "metadata": {},
   "outputs": [
    {
     "data": {
      "text/html": [
       "<div>\n",
       "<style scoped>\n",
       "    .dataframe tbody tr th:only-of-type {\n",
       "        vertical-align: middle;\n",
       "    }\n",
       "\n",
       "    .dataframe tbody tr th {\n",
       "        vertical-align: top;\n",
       "    }\n",
       "\n",
       "    .dataframe thead th {\n",
       "        text-align: right;\n",
       "    }\n",
       "</style>\n",
       "<table border=\"1\" class=\"dataframe\">\n",
       "  <thead>\n",
       "    <tr style=\"text-align: right;\">\n",
       "      <th></th>\n",
       "      <th>Stock to Flow</th>\n",
       "      <th>Price</th>\n",
       "    </tr>\n",
       "  </thead>\n",
       "  <tbody>\n",
       "    <tr>\n",
       "      <th>26</th>\n",
       "      <td>6.394078</td>\n",
       "      <td>80.967742</td>\n",
       "    </tr>\n",
       "    <tr>\n",
       "      <th>27</th>\n",
       "      <td>6.394078</td>\n",
       "      <td>80.967742</td>\n",
       "    </tr>\n",
       "    <tr>\n",
       "      <th>28</th>\n",
       "      <td>6.394078</td>\n",
       "      <td>80.967742</td>\n",
       "    </tr>\n",
       "    <tr>\n",
       "      <th>29</th>\n",
       "      <td>6.394078</td>\n",
       "      <td>80.967742</td>\n",
       "    </tr>\n",
       "    <tr>\n",
       "      <th>30</th>\n",
       "      <td>6.394078</td>\n",
       "      <td>80.967742</td>\n",
       "    </tr>\n",
       "    <tr>\n",
       "      <th>...</th>\n",
       "      <td>...</td>\n",
       "      <td>...</td>\n",
       "    </tr>\n",
       "    <tr>\n",
       "      <th>308</th>\n",
       "      <td>25.576313</td>\n",
       "      <td>8535.591088</td>\n",
       "    </tr>\n",
       "    <tr>\n",
       "      <th>309</th>\n",
       "      <td>25.576313</td>\n",
       "      <td>8535.591088</td>\n",
       "    </tr>\n",
       "    <tr>\n",
       "      <th>310</th>\n",
       "      <td>25.576313</td>\n",
       "      <td>8535.591088</td>\n",
       "    </tr>\n",
       "    <tr>\n",
       "      <th>311</th>\n",
       "      <td>25.332729</td>\n",
       "      <td>8265.508493</td>\n",
       "    </tr>\n",
       "    <tr>\n",
       "      <th>312</th>\n",
       "      <td>25.824626</td>\n",
       "      <td>8817.237648</td>\n",
       "    </tr>\n",
       "  </tbody>\n",
       "</table>\n",
       "<p>287 rows × 2 columns</p>\n",
       "</div>"
      ],
      "text/plain": [
       "     Stock to Flow        Price\n",
       "26        6.394078    80.967742\n",
       "27        6.394078    80.967742\n",
       "28        6.394078    80.967742\n",
       "29        6.394078    80.967742\n",
       "30        6.394078    80.967742\n",
       "..             ...          ...\n",
       "308      25.576313  8535.591088\n",
       "309      25.576313  8535.591088\n",
       "310      25.576313  8535.591088\n",
       "311      25.332729  8265.508493\n",
       "312      25.824626  8817.237648\n",
       "\n",
       "[287 rows x 2 columns]"
      ]
     },
     "execution_count": 18,
     "metadata": {},
     "output_type": "execute_result"
    }
   ],
   "source": [
    "import math\n",
    "s2f_model_price = math.exp(-1.84)* SF ** 3.36\n",
    "sf_model = pd.DataFrame(data={'Stock to Flow':SF, 'Price':s2f_model_price})\n",
    "sf_model"
   ]
  },
  {
   "cell_type": "code",
   "execution_count": 21,
   "metadata": {},
   "outputs": [
    {
     "data": {
      "image/png": "[encoded data removed]",
      "text/plain": [
       "<Figure size 432x288 with 1 Axes>"
      ]
     },
     "metadata": {
      "needs_background": "light"
     },
     "output_type": "display_data"
    }
   ],
   "source": [
    "plt.plot(s2f_model_price, label='Stock to Flow Model')\n",
    "plt.legend()\n",
    "plt.grid()\n",
    "plt.show()"
   ]
  },
  {
   "cell_type": "code",
   "execution_count": 83,
   "metadata": {},
   "outputs": [
    {
     "data": {
      "image/png": "[encoded data removed]",
      "text/plain": [
       "<Figure size 432x432 with 1 Axes>"
      ]
     },
     "metadata": {
      "needs_background": "light"
     },
     "output_type": "display_data"
    }
   ],
   "source": [
    "tickers = 'BTC-USD'\n",
    "grad_at_sell = model.ticker_df[tickers]['Grad at Sell'].dropna().to_numpy()\n",
    "max_length = grad_at_sell.shape[0]\n",
    "grad_at_buy = model.ticker_df[tickers]['Grad at Buy'].to_numpy()[:max_length]\n",
    "grad_diff = model.ticker_df[tickers]['Grad Difference'].to_numpy()[:max_length]\n",
    "trade_efficiency = model.ticker_df[tickers]['Trade Efficiency'].to_numpy()[:max_length] * 100\n",
    "#Get linear regression model\n",
    "from scipy import stats\n",
    "import numpy as np\n",
    "slope, intercept, r_value, p_value, std_err = stats.linregress(grad_diff, trade_efficiency)\n",
    "#Plot stuff\n",
    "plt.figure(figsize=(6, 6))\n",
    "plt.scatter(grad_diff, trade_efficiency, label='Grad Diff at Trade Win')\n",
    "plt.plot(grad_diff, grad_diff*slope + intercept, color='r', label='Linear Regression')\n",
    "plt.xlabel('Grad Diff [-]')\n",
    "plt.ylabel('Trade Win [%]')\n",
    "plt.legend()\n",
    "plt.grid()\n",
    "plt.show()"
   ]
  },
  {
   "cell_type": "code",
   "execution_count": 84,
   "metadata": {},
   "outputs": [
    {
     "data": {
      "text/html": [
       "<div>\n",
       "<style scoped>\n",
       "    .dataframe tbody tr th:only-of-type {\n",
       "        vertical-align: middle;\n",
       "    }\n",
       "\n",
       "    .dataframe tbody tr th {\n",
       "        vertical-align: top;\n",
       "    }\n",
       "\n",
       "    .dataframe thead th {\n",
       "        text-align: right;\n",
       "    }\n",
       "</style>\n",
       "<table border=\"1\" class=\"dataframe\">\n",
       "  <thead>\n",
       "    <tr style=\"text-align: right;\">\n",
       "      <th></th>\n",
       "      <th>Grad at Sell</th>\n",
       "      <th>Grad at Buy</th>\n",
       "      <th>Grad Diff</th>\n",
       "      <th>Trade Efficiency</th>\n",
       "    </tr>\n",
       "  </thead>\n",
       "  <tbody>\n",
       "    <tr>\n",
       "      <th>0</th>\n",
       "      <td>9.683906</td>\n",
       "      <td>0.636496</td>\n",
       "      <td>9.047411</td>\n",
       "      <td>5.788170</td>\n",
       "    </tr>\n",
       "    <tr>\n",
       "      <th>1</th>\n",
       "      <td>2.081615</td>\n",
       "      <td>-23.098980</td>\n",
       "      <td>25.180595</td>\n",
       "      <td>-1.254064</td>\n",
       "    </tr>\n",
       "    <tr>\n",
       "      <th>2</th>\n",
       "      <td>5.473483</td>\n",
       "      <td>0.774487</td>\n",
       "      <td>4.698996</td>\n",
       "      <td>1.884740</td>\n",
       "    </tr>\n",
       "    <tr>\n",
       "      <th>3</th>\n",
       "      <td>2.860280</td>\n",
       "      <td>-2.767822</td>\n",
       "      <td>5.628102</td>\n",
       "      <td>-0.298450</td>\n",
       "    </tr>\n",
       "    <tr>\n",
       "      <th>4</th>\n",
       "      <td>3.125603</td>\n",
       "      <td>1.404741</td>\n",
       "      <td>1.720862</td>\n",
       "      <td>-0.383865</td>\n",
       "    </tr>\n",
       "    <tr>\n",
       "      <th>...</th>\n",
       "      <td>...</td>\n",
       "      <td>...</td>\n",
       "      <td>...</td>\n",
       "      <td>...</td>\n",
       "    </tr>\n",
       "    <tr>\n",
       "      <th>86</th>\n",
       "      <td>38.598812</td>\n",
       "      <td>3.518096</td>\n",
       "      <td>35.080716</td>\n",
       "      <td>9.743229</td>\n",
       "    </tr>\n",
       "    <tr>\n",
       "      <th>87</th>\n",
       "      <td>18.696052</td>\n",
       "      <td>-20.915703</td>\n",
       "      <td>39.611755</td>\n",
       "      <td>11.409135</td>\n",
       "    </tr>\n",
       "    <tr>\n",
       "      <th>88</th>\n",
       "      <td>18.529431</td>\n",
       "      <td>-86.116669</td>\n",
       "      <td>104.646100</td>\n",
       "      <td>9.917040</td>\n",
       "    </tr>\n",
       "    <tr>\n",
       "      <th>89</th>\n",
       "      <td>8.468110</td>\n",
       "      <td>-0.121655</td>\n",
       "      <td>8.589765</td>\n",
       "      <td>1.992817</td>\n",
       "    </tr>\n",
       "    <tr>\n",
       "      <th>90</th>\n",
       "      <td>-13.650473</td>\n",
       "      <td>-29.466352</td>\n",
       "      <td>15.815879</td>\n",
       "      <td>-0.857144</td>\n",
       "    </tr>\n",
       "  </tbody>\n",
       "</table>\n",
       "<p>91 rows × 4 columns</p>\n",
       "</div>"
      ],
      "text/plain": [
       "    Grad at Sell  Grad at Buy   Grad Diff  Trade Efficiency\n",
       "0       9.683906     0.636496    9.047411          5.788170\n",
       "1       2.081615   -23.098980   25.180595         -1.254064\n",
       "2       5.473483     0.774487    4.698996          1.884740\n",
       "3       2.860280    -2.767822    5.628102         -0.298450\n",
       "4       3.125603     1.404741    1.720862         -0.383865\n",
       "..           ...          ...         ...               ...\n",
       "86     38.598812     3.518096   35.080716          9.743229\n",
       "87     18.696052   -20.915703   39.611755         11.409135\n",
       "88     18.529431   -86.116669  104.646100          9.917040\n",
       "89      8.468110    -0.121655    8.589765          1.992817\n",
       "90    -13.650473   -29.466352   15.815879         -0.857144\n",
       "\n",
       "[91 rows x 4 columns]"
      ]
     },
     "execution_count": 84,
     "metadata": {},
     "output_type": "execute_result"
    }
   ],
   "source": [
    "#Create DataFrame of Interest\n",
    "eval_df = pd.DataFrame(data={'Grad at Sell': grad_at_sell, 'Grad at Buy': grad_at_buy, \\\n",
    "                             'Grad Diff': grad_diff, 'Trade Efficiency': trade_efficiency})\n",
    "eval_df"
   ]
  },
  {
   "cell_type": "code",
   "execution_count": 85,
   "metadata": {},
   "outputs": [
    {
     "data": {
      "text/html": [
       "<div>\n",
       "<style scoped>\n",
       "    .dataframe tbody tr th:only-of-type {\n",
       "        vertical-align: middle;\n",
       "    }\n",
       "\n",
       "    .dataframe tbody tr th {\n",
       "        vertical-align: top;\n",
       "    }\n",
       "\n",
       "    .dataframe thead th {\n",
       "        text-align: right;\n",
       "    }\n",
       "</style>\n",
       "<table border=\"1\" class=\"dataframe\">\n",
       "  <thead>\n",
       "    <tr style=\"text-align: right;\">\n",
       "      <th></th>\n",
       "      <th>Grad at Sell</th>\n",
       "      <th>Grad at Buy</th>\n",
       "      <th>Grad Diff</th>\n",
       "      <th>Trade Efficiency</th>\n",
       "    </tr>\n",
       "  </thead>\n",
       "  <tbody>\n",
       "    <tr>\n",
       "      <th>count</th>\n",
       "      <td>91.000000</td>\n",
       "      <td>91.000000</td>\n",
       "      <td>91.000000</td>\n",
       "      <td>91.000000</td>\n",
       "    </tr>\n",
       "    <tr>\n",
       "      <th>mean</th>\n",
       "      <td>13.534568</td>\n",
       "      <td>-15.487332</td>\n",
       "      <td>29.021899</td>\n",
       "      <td>4.731626</td>\n",
       "    </tr>\n",
       "    <tr>\n",
       "      <th>std</th>\n",
       "      <td>24.925039</td>\n",
       "      <td>27.242214</td>\n",
       "      <td>36.441065</td>\n",
       "      <td>6.881632</td>\n",
       "    </tr>\n",
       "    <tr>\n",
       "      <th>min</th>\n",
       "      <td>-33.994523</td>\n",
       "      <td>-111.663646</td>\n",
       "      <td>0.392552</td>\n",
       "      <td>-2.126661</td>\n",
       "    </tr>\n",
       "    <tr>\n",
       "      <th>25%</th>\n",
       "      <td>-0.472248</td>\n",
       "      <td>-23.549283</td>\n",
       "      <td>6.277997</td>\n",
       "      <td>0.302026</td>\n",
       "    </tr>\n",
       "    <tr>\n",
       "      <th>50%</th>\n",
       "      <td>7.821035</td>\n",
       "      <td>-12.289431</td>\n",
       "      <td>17.617840</td>\n",
       "      <td>2.709208</td>\n",
       "    </tr>\n",
       "    <tr>\n",
       "      <th>75%</th>\n",
       "      <td>22.062945</td>\n",
       "      <td>-1.121116</td>\n",
       "      <td>35.967025</td>\n",
       "      <td>6.952739</td>\n",
       "    </tr>\n",
       "    <tr>\n",
       "      <th>max</th>\n",
       "      <td>103.409388</td>\n",
       "      <td>48.779919</td>\n",
       "      <td>215.073034</td>\n",
       "      <td>36.598072</td>\n",
       "    </tr>\n",
       "  </tbody>\n",
       "</table>\n",
       "</div>"
      ],
      "text/plain": [
       "       Grad at Sell  Grad at Buy   Grad Diff  Trade Efficiency\n",
       "count     91.000000    91.000000   91.000000         91.000000\n",
       "mean      13.534568   -15.487332   29.021899          4.731626\n",
       "std       24.925039    27.242214   36.441065          6.881632\n",
       "min      -33.994523  -111.663646    0.392552         -2.126661\n",
       "25%       -0.472248   -23.549283    6.277997          0.302026\n",
       "50%        7.821035   -12.289431   17.617840          2.709208\n",
       "75%       22.062945    -1.121116   35.967025          6.952739\n",
       "max      103.409388    48.779919  215.073034         36.598072"
      ]
     },
     "execution_count": 85,
     "metadata": {},
     "output_type": "execute_result"
    }
   ],
   "source": [
    "#Stats of DataFrame\n",
    "eval_df.describe()"
   ]
  },
  {
   "cell_type": "code",
   "execution_count": 87,
   "metadata": {
    "scrolled": true
   },
   "outputs": [
    {
     "data": {
      "text/plain": [
       "<matplotlib.axes._subplots.AxesSubplot at 0x1a1acb3d10>"
      ]
     },
     "execution_count": 87,
     "metadata": {},
     "output_type": "execute_result"
    },
    {
     "data": {
      "image/png": "[encoded data removed]",
      "text/plain": [
       "<Figure size 432x288 with 1 Axes>"
      ]
     },
     "metadata": {
      "needs_background": "light"
     },
     "output_type": "display_data"
    }
   ],
   "source": [
    "#Box Plots\n",
    "eval_df.boxplot(column=['Grad Diff', 'Trade Efficiency'])"
   ]
  },
  {
   "cell_type": "code",
   "execution_count": 88,
   "metadata": {},
   "outputs": [
    {
     "data": {
      "text/html": [
       "<div>\n",
       "<style scoped>\n",
       "    .dataframe tbody tr th:only-of-type {\n",
       "        vertical-align: middle;\n",
       "    }\n",
       "\n",
       "    .dataframe tbody tr th {\n",
       "        vertical-align: top;\n",
       "    }\n",
       "\n",
       "    .dataframe thead th {\n",
       "        text-align: right;\n",
       "    }\n",
       "</style>\n",
       "<table border=\"1\" class=\"dataframe\">\n",
       "  <thead>\n",
       "    <tr style=\"text-align: right;\">\n",
       "      <th></th>\n",
       "      <th>Grad at Sell</th>\n",
       "      <th>Grad at Buy</th>\n",
       "      <th>Grad Diff</th>\n",
       "      <th>Trade Efficiency</th>\n",
       "    </tr>\n",
       "  </thead>\n",
       "  <tbody>\n",
       "    <tr>\n",
       "      <th>Grad at Sell</th>\n",
       "      <td>1.000000</td>\n",
       "      <td>0.026100</td>\n",
       "      <td>0.664471</td>\n",
       "      <td>0.800134</td>\n",
       "    </tr>\n",
       "    <tr>\n",
       "      <th>Grad at Buy</th>\n",
       "      <td>0.026100</td>\n",
       "      <td>1.000000</td>\n",
       "      <td>-0.729717</td>\n",
       "      <td>-0.176413</td>\n",
       "    </tr>\n",
       "    <tr>\n",
       "      <th>Grad Diff</th>\n",
       "      <td>0.664471</td>\n",
       "      <td>-0.729717</td>\n",
       "      <td>1.000000</td>\n",
       "      <td>0.679158</td>\n",
       "    </tr>\n",
       "    <tr>\n",
       "      <th>Trade Efficiency</th>\n",
       "      <td>0.800134</td>\n",
       "      <td>-0.176413</td>\n",
       "      <td>0.679158</td>\n",
       "      <td>1.000000</td>\n",
       "    </tr>\n",
       "  </tbody>\n",
       "</table>\n",
       "</div>"
      ],
      "text/plain": [
       "                  Grad at Sell  Grad at Buy  Grad Diff  Trade Efficiency\n",
       "Grad at Sell          1.000000     0.026100   0.664471          0.800134\n",
       "Grad at Buy           0.026100     1.000000  -0.729717         -0.176413\n",
       "Grad Diff             0.664471    -0.729717   1.000000          0.679158\n",
       "Trade Efficiency      0.800134    -0.176413   0.679158          1.000000"
      ]
     },
     "execution_count": 88,
     "metadata": {},
     "output_type": "execute_result"
    }
   ],
   "source": [
    "#Correlation Matrix\n",
    "eval_df.corr()"
   ]
  },
  {
   "cell_type": "markdown",
   "metadata": {},
   "source": [
    "### Optional: Export model and eval DataFrame to csv file:"
   ]
  },
  {
   "cell_type": "code",
   "execution_count": 89,
   "metadata": {},
   "outputs": [],
   "source": [
    "csv_name_model = 'OUTPUT/model_{}_{}_{}.csv'.format(tickers, start_date, day_hour)\n",
    "model.ticker_df['BTC-USD'].to_csv(csv_name_model)"
   ]
  },
  {
   "cell_type": "code",
   "execution_count": 90,
   "metadata": {},
   "outputs": [],
   "source": [
    "csv_name_eval = 'OUTPUT/eval_{}_{}_{}.csv'.format(tickers, start_date, day_hour)\n",
    "eval_df.to_csv(csv_name_eval)"
   ]
  }
 ],
 "metadata": {
  "kernelspec": {
   "display_name": "Python 3",
   "language": "python",
   "name": "python3"
  },
  "language_info": {
   "codemirror_mode": {
    "name": "ipython",
    "version": 3
   },
   "file_extension": ".py",
   "mimetype": "text/x-python",
   "name": "python",
   "nbconvert_exporter": "python",
   "pygments_lexer": "ipython3",
   "version": "3.7.4"
  }
 },
 "nbformat": 4,
 "nbformat_minor": 2
}
