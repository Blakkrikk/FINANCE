{
 "cells": [
  {
   "cell_type": "markdown",
   "metadata": {},
   "source": [
    "# STOCK/CRPYTO PRICE PREDICTION MODEL\n",
    "\n",
    "## The following code is an example on how to use simple data analysis tolls in order to set up a simple strategy for long and short term financial trading\n",
    "\n",
    "### We will make use of the programing language python (3.x) which suits nicely for data anlysis"
   ]
  },
  {
   "cell_type": "markdown",
   "metadata": {},
   "source": [
    "## --> This a very is simplified model for trading. One should always invest just as much money as one can afford to loose and do own studies in advance. "
   ]
  },
  {
   "cell_type": "markdown",
   "metadata": {},
   "source": [
    "## Required modules:\n",
    "- numpy: the code is designed to be vectorized such that the numpy module can be used and calculations performed fast\n",
    "- pandas: module for illustrative data frames\n",
    "- yfinance: api module provided by yahoo finance to get current and previous asset prices\n",
    "- matplotlib: (sub)module(s) for plots\n",
    "- scipy: (sub)module for statistical and signal analysis\n",
    "- datetime: (optional)"
   ]
  },
  {
   "cell_type": "code",
   "execution_count": 1,
   "metadata": {},
   "outputs": [],
   "source": [
    "%load_ext autoreload\n",
    "%autoreload 2"
   ]
  },
  {
   "cell_type": "code",
   "execution_count": 3,
   "metadata": {},
   "outputs": [],
   "source": [
    "from model import MODEL\n",
    "import utils"
   ]
  },
  {
   "cell_type": "code",
   "execution_count": 140,
   "metadata": {},
   "outputs": [],
   "source": [
    "tickers = ['BTC-USD', 'LTC-USD']\n",
    "model = MODEL(tickers=tickers)"
   ]
  },
  {
   "cell_type": "code",
   "execution_count": 150,
   "metadata": {},
   "outputs": [
    {
     "name": "stdout",
     "output_type": "stream",
     "text": [
      "[*********************100%***********************]  2 of 2 completed\n"
     ]
    }
   ],
   "source": [
    "start_date = '2020-01-01'\n",
    "model.get_data(start=start_date, interval='60m', threads=1)"
   ]
  },
  {
   "cell_type": "code",
   "execution_count": 151,
   "metadata": {},
   "outputs": [
    {
     "name": "stdout",
     "output_type": "stream",
     "text": [
      "[INFO]: filter applied.\n"
     ]
    }
   ],
   "source": [
    "date_range = utils.create_date_range(start_date=start_date, freq='3h')\n",
    "model.apply_date_filter(date_range)"
   ]
  },
  {
   "cell_type": "code",
   "execution_count": null,
   "metadata": {},
   "outputs": [],
   "source": []
  },
  {
   "cell_type": "code",
   "execution_count": null,
   "metadata": {},
   "outputs": [],
   "source": []
  }
 ],
 "metadata": {
  "kernelspec": {
   "display_name": "Python 3",
   "language": "python",
   "name": "python3"
  },
  "language_info": {
   "codemirror_mode": {
    "name": "ipython",
    "version": 3
   },
   "file_extension": ".py",
   "mimetype": "text/x-python",
   "name": "python",
   "nbconvert_exporter": "python",
   "pygments_lexer": "ipython3",
   "version": "3.7.4"
  }
 },
 "nbformat": 4,
 "nbformat_minor": 2
}
