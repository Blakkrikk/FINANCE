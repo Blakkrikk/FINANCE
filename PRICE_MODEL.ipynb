{
 "cells": [
  {
   "cell_type": "markdown",
   "metadata": {},
   "source": [
    "# STOCK/CRPYTO PRICE PREDICTION MODEL\n",
    "\n",
    "## The following code is an example on how to use simple data analysis tolls in order to set up a simple strategy for long and short term financial trading\n",
    "\n",
    "### We will make use of the programing language python (3.x) which suits nicely for data anlysis"
   ]
  },
  {
   "cell_type": "markdown",
   "metadata": {},
   "source": [
    "## --> This a very is simplified model for trading. One should always invest just as much money as one can afford to loose and do own studies in advance. "
   ]
  },
  {
   "cell_type": "markdown",
   "metadata": {},
   "source": [
    "## Required modules:\n",
    "- numpy: the code is designed to be vectorized such that the numpy module can be used and calculations performed fast\n",
    "- pandas: module for illustrative data frames\n",
    "- yfinance: api module provided by yahoo finance to get current and previous asset prices\n",
    "- matplotlib: (sub)module(s) for plots\n",
    "- scipy: (sub)module for statistical and signal analysis\n",
    "- datetime: (optional)"
   ]
  },
  {
   "cell_type": "code",
   "execution_count": 1,
   "metadata": {},
   "outputs": [],
   "source": [
    "%load_ext autoreload\n",
    "%autoreload 2"
   ]
  },
  {
   "cell_type": "code",
   "execution_count": 3,
   "metadata": {},
   "outputs": [],
   "source": [
    "from model import MODEL\n",
    "import utils"
   ]
  },
  {
   "cell_type": "code",
   "execution_count": 281,
   "metadata": {},
   "outputs": [],
   "source": [
    "tickers = ['BTC-USD', 'LTC-USD']\n",
    "tickers = 'LTC-USD'\n",
    "model = MODEL(tickers=tickers)"
   ]
  },
  {
   "cell_type": "code",
   "execution_count": 282,
   "metadata": {},
   "outputs": [
    {
     "name": "stdout",
     "output_type": "stream",
     "text": [
      "[*********************100%***********************]  1 of 1 completed\n"
     ]
    }
   ],
   "source": [
    "start_date = '2020-01-01'\n",
    "model.get_data(start=start_date, interval='60m', threads=1)"
   ]
  },
  {
   "cell_type": "code",
   "execution_count": 283,
   "metadata": {},
   "outputs": [
    {
     "name": "stdout",
     "output_type": "stream",
     "text": [
      "[INFO]: filter applied.\n"
     ]
    }
   ],
   "source": [
    "date_range = utils.create_date_range(start_date=start_date, freq='3h')\n",
    "model.apply_date_filter(date_range)"
   ]
  },
  {
   "cell_type": "code",
   "execution_count": null,
   "metadata": {},
   "outputs": [],
   "source": []
  },
  {
   "cell_type": "code",
   "execution_count": 295,
   "metadata": {},
   "outputs": [
    {
     "name": "stdout",
     "output_type": "stream",
     "text": [
      "822\n"
     ]
    }
   ],
   "source": [
    "model._init_model()"
   ]
  },
  {
   "cell_type": "code",
   "execution_count": 293,
   "metadata": {},
   "outputs": [
    {
     "data": {
      "text/plain": [
       "numpy.float64"
      ]
     },
     "execution_count": 293,
     "metadata": {},
     "output_type": "execute_result"
    }
   ],
   "source": [
    "model.grad['LTC-USD']"
   ]
  },
  {
   "cell_type": "code",
   "execution_count": 220,
   "metadata": {},
   "outputs": [
    {
     "data": {
      "text/plain": [
       "array([0.04653898, 0.03381959, 0.02575402, 0.04243673, 0.04099117,\n",
       "       0.02041081, 0.03172823, 0.04473742, 0.05003016, 0.05812485])"
      ]
     },
     "execution_count": 220,
     "metadata": {},
     "output_type": "execute_result"
    }
   ],
   "source": [
    "#ltc grad\n",
    "model.grad[-10:]"
   ]
  },
  {
   "cell_type": "code",
   "execution_count": 214,
   "metadata": {},
   "outputs": [
    {
     "data": {
      "text/plain": [
       "array([3.56094197, 1.92102105, 3.24438772, 6.420627  , 5.0443031 ,\n",
       "       2.77423147, 3.71035544, 5.21641727, 7.93910375, 9.73290095])"
      ]
     },
     "execution_count": 214,
     "metadata": {},
     "output_type": "execute_result"
    }
   ],
   "source": [
    "#btc grad\n",
    "model.grad[-10:]"
   ]
  },
  {
   "cell_type": "code",
   "execution_count": null,
   "metadata": {},
   "outputs": [],
   "source": []
  },
  {
   "cell_type": "code",
   "execution_count": 219,
   "metadata": {},
   "outputs": [
    {
     "data": {
      "text/plain": [
       "array([  3,   6,   9,  14,  23,  25,  28,  34,  39,  45,  49,  52,  62,\n",
       "        67,  70,  74,  83,  87,  91,  94,  97, 100, 107, 114, 117, 120,\n",
       "       127, 132, 138, 141, 148, 155, 159, 162, 165, 168, 176, 181, 186,\n",
       "       192, 196, 201, 204, 210, 215, 221, 228, 232, 244, 252, 256, 266,\n",
       "       275, 278, 288, 290, 294, 300, 304, 308, 317, 322, 326, 328, 334,\n",
       "       340, 343, 347, 351, 356, 361, 365, 373, 377, 379, 383, 387, 396,\n",
       "       399, 403, 410, 415, 418, 422, 433, 437, 441, 445, 448, 453, 459,\n",
       "       463, 467, 470, 476, 479, 482, 486, 492, 496, 498, 501, 508, 520,\n",
       "       525, 529, 534, 536, 541, 549, 554, 557, 564, 572, 575, 581, 587,\n",
       "       592, 595, 597, 602, 606, 615, 618, 625, 628, 632, 638, 642, 652,\n",
       "       658, 665, 668, 673, 676, 682, 684, 692, 696, 707, 711, 721, 725,\n",
       "       729, 733, 740, 743, 749, 753, 756, 762, 766, 772, 783, 788, 793,\n",
       "       802, 811, 814, 817])"
      ]
     },
     "execution_count": 219,
     "metadata": {},
     "output_type": "execute_result"
    }
   ],
   "source": [
    "#ltc mins\n",
    "model.local_min"
   ]
  },
  {
   "cell_type": "code",
   "execution_count": 213,
   "metadata": {},
   "outputs": [
    {
     "data": {
      "text/plain": [
       "array([  3,   9,  14,  23,  28,  35,  39,  45,  52,  62,  70,  74,  78,\n",
       "        84,  88,  94, 100, 107, 114, 120, 125, 132, 138, 141, 148, 155,\n",
       "       162, 165, 172, 178, 186, 192, 195, 200, 204, 210, 213, 218, 221,\n",
       "       228, 232, 243, 252, 256, 264, 268, 275, 278, 285, 288, 290, 294,\n",
       "       299, 302, 304, 309, 318, 322, 328, 341, 343, 347, 350, 354, 362,\n",
       "       365, 374, 377, 380, 387, 396, 399, 415, 418, 421, 430, 433, 438,\n",
       "       441, 445, 448, 454, 459, 463, 467, 470, 476, 479, 482, 486, 498,\n",
       "       501, 508, 513, 520, 525, 529, 534, 541, 548, 554, 557, 562, 565,\n",
       "       572, 575, 581, 587, 592, 595, 597, 603, 607, 613, 615, 618, 625,\n",
       "       628, 632, 638, 642, 652, 658, 661, 665, 669, 672, 676, 678, 682,\n",
       "       692, 696, 701, 707, 711, 717, 723, 728, 732, 739, 744, 749, 756,\n",
       "       762, 766, 774, 777, 783, 788, 793, 796, 802, 813, 817])"
      ]
     },
     "execution_count": 213,
     "metadata": {},
     "output_type": "execute_result"
    }
   ],
   "source": [
    "#btc mins\n",
    "model.local_min"
   ]
  }
 ],
 "metadata": {
  "kernelspec": {
   "display_name": "Python 3",
   "language": "python",
   "name": "python3"
  },
  "language_info": {
   "codemirror_mode": {
    "name": "ipython",
    "version": 3
   },
   "file_extension": ".py",
   "mimetype": "text/x-python",
   "name": "python",
   "nbconvert_exporter": "python",
   "pygments_lexer": "ipython3",
   "version": "3.7.4"
  }
 },
 "nbformat": 4,
 "nbformat_minor": 2
}
