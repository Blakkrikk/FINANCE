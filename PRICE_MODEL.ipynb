{
 "cells": [
  {
   "cell_type": "markdown",
   "metadata": {},
   "source": [
    "# STOCK/CRPYTO PRICE PREDICTION MODEL\n",
    "\n",
    "## The following code is an example on how to use simple data analysis tolls in order to set up a simple strategy for long and short term financial trading\n",
    "\n",
    "### We will make use of the programing language python (3.x) which suits nicely for data anlysis"
   ]
  },
  {
   "cell_type": "markdown",
   "metadata": {},
   "source": [
    "## --> This a very is simplified model for trading. One should always invest just as much money as one can afford to loose and do own studies in advance. "
   ]
  },
  {
   "cell_type": "markdown",
   "metadata": {},
   "source": [
    "## Required modules:\n",
    "- numpy: the code is designed to be vectorized such that the numpy module can be used and calculations performed fast\n",
    "- pandas: module for illustrative data frames\n",
    "- yfinance: api module provided by yahoo finance to get current and previous asset prices\n",
    "- matplotlib: (sub)module(s) for plots\n",
    "- scipy: (sub)module for statistical and signal analysis\n",
    "- datetime: (optional)"
   ]
  },
  {
   "cell_type": "code",
   "execution_count": 1,
   "metadata": {},
   "outputs": [],
   "source": [
    "%load_ext autoreload\n",
    "%autoreload 2"
   ]
  },
  {
   "cell_type": "code",
   "execution_count": 178,
   "metadata": {},
   "outputs": [],
   "source": [
    "from model import MODEL\n",
    "import utils\n",
    "import matplotlib.pyplot as plt\n",
    "import pandas as pd\n",
    "import numpy as np"
   ]
  },
  {
   "cell_type": "code",
   "execution_count": 242,
   "metadata": {},
   "outputs": [],
   "source": [
    "tickers = ['BTC-USD', 'XRP-USD']\n",
    "model = MODEL(tickers=tickers)"
   ]
  },
  {
   "cell_type": "code",
   "execution_count": 243,
   "metadata": {},
   "outputs": [
    {
     "name": "stdout",
     "output_type": "stream",
     "text": [
      "[*********************100%***********************]  2 of 2 completed\n"
     ]
    }
   ],
   "source": [
    "start_date = '2020-01-01'\n",
    "model.get_data(start=start_date, interval='60m', threads=1)"
   ]
  },
  {
   "cell_type": "code",
   "execution_count": 244,
   "metadata": {},
   "outputs": [
    {
     "name": "stdout",
     "output_type": "stream",
     "text": [
      "[INFO]: filter applied.\n"
     ]
    }
   ],
   "source": [
    "day_hour = 10\n",
    "start_date_range = pd.Timestamp(2020, 1, 1, day_hour)\n",
    "date_range = utils.create_date_range(start_date=start_date_range)\n",
    "model.apply_date_filter(date_range)"
   ]
  },
  {
   "cell_type": "code",
   "execution_count": 245,
   "metadata": {},
   "outputs": [
    {
     "name": "stdout",
     "output_type": "stream",
     "text": [
      "[WARNING]: Ignoring second entry of gradient!\n"
     ]
    }
   ],
   "source": [
    "model._init_model()"
   ]
  },
  {
   "cell_type": "code",
   "execution_count": 251,
   "metadata": {},
   "outputs": [
    {
     "name": "stdout",
     "output_type": "stream",
     "text": [
      "==================================================================================\n",
      "|                                  PRICE MODEL                                   |\n",
      "|                                  Version 0.3                                   |\n",
      "|                   Authors: Marco Rosenzweig & Patrick Lorenz                   |\n",
      "----------------------------------------------------------------------------------\n",
      "|                        ticker = ['BTC-USD', 'XRP-USD']                         |\n",
      "|                             start date = 01/01/20                              |\n",
      "|                              end date = 04/12/20                               |\n",
      "|                      initial investment per ticker = 200                       |\n",
      "==================================================================================\n",
      "[TICKER]: BTC-USD\n",
      "[INFO]: Open position.\n",
      "[INFO]: No tax paid.\n",
      "[INFO]: Last entry of \"Sell Dates\" will be assigned equally as the penultimate one.\n",
      "----------------------------------------------------------------------------------\n",
      "[SUMMARY]: Average trade win: 7.4470921535%\n",
      "[SUMMARY]: Average trade loss: -1.9094439941%\n",
      "[SUMMARY]: Efficiency: 86.67%\n",
      "[SUMMARY]: NET WIN: 281.70\n",
      "==================================================================================\n",
      "[TICKER]: XRP-USD\n",
      "[INFO]: Open position.\n",
      "[INFO]: No tax paid.\n",
      "[INFO]: Last entry of \"Sell Dates\" will be assigned equally as the penultimate one.\n",
      "----------------------------------------------------------------------------------\n",
      "[SUMMARY]: Average trade win: 7.3950276274%\n",
      "[SUMMARY]: Average trade loss: -1.4197190702%\n",
      "[SUMMARY]: Efficiency: 76.47%\n",
      "[SUMMARY]: NET WIN: 271.08\n",
      "==================================================================================\n"
     ]
    }
   ],
   "source": [
    "model.eval_model()"
   ]
  },
  {
   "cell_type": "code",
   "execution_count": 248,
   "metadata": {},
   "outputs": [
    {
     "data": {
      "text/html": [
       "<div>\n",
       "<style scoped>\n",
       "    .dataframe tbody tr th:only-of-type {\n",
       "        vertical-align: middle;\n",
       "    }\n",
       "\n",
       "    .dataframe tbody tr th {\n",
       "        vertical-align: top;\n",
       "    }\n",
       "\n",
       "    .dataframe thead th {\n",
       "        text-align: right;\n",
       "    }\n",
       "</style>\n",
       "<table border=\"1\" class=\"dataframe\">\n",
       "  <thead>\n",
       "    <tr style=\"text-align: right;\">\n",
       "      <th></th>\n",
       "      <th>Buy Dates</th>\n",
       "      <th>Sell Dates</th>\n",
       "      <th>Buy Prices</th>\n",
       "      <th>Sell Prices</th>\n",
       "      <th>Trade Reward</th>\n",
       "      <th>Trade Win</th>\n",
       "      <th>Trade Efficiency</th>\n",
       "    </tr>\n",
       "  </thead>\n",
       "  <tbody>\n",
       "    <tr>\n",
       "      <th>0</th>\n",
       "      <td>2020-01-10 10:00:00</td>\n",
       "      <td>2020-01-12 10:00:00</td>\n",
       "      <td>7795.303217</td>\n",
       "      <td>8111.718249</td>\n",
       "      <td>208.118094</td>\n",
       "      <td>8.118094</td>\n",
       "      <td>0.040590</td>\n",
       "    </tr>\n",
       "    <tr>\n",
       "      <th>1</th>\n",
       "      <td>2020-01-13 10:00:00</td>\n",
       "      <td>2020-01-15 10:00:00</td>\n",
       "      <td>8165.026612</td>\n",
       "      <td>8723.308437</td>\n",
       "      <td>222.348121</td>\n",
       "      <td>14.230027</td>\n",
       "      <td>0.068375</td>\n",
       "    </tr>\n",
       "    <tr>\n",
       "      <th>2</th>\n",
       "      <td>2020-01-21 10:00:00</td>\n",
       "      <td>2020-01-22 10:00:00</td>\n",
       "      <td>8690.157882</td>\n",
       "      <td>8634.341646</td>\n",
       "      <td>220.919996</td>\n",
       "      <td>-1.428125</td>\n",
       "      <td>-0.006423</td>\n",
       "    </tr>\n",
       "    <tr>\n",
       "      <th>3</th>\n",
       "      <td>2020-01-24 10:00:00</td>\n",
       "      <td>2020-01-29 10:00:00</td>\n",
       "      <td>8295.156315</td>\n",
       "      <td>9355.800567</td>\n",
       "      <td>249.167507</td>\n",
       "      <td>28.247512</td>\n",
       "      <td>0.127863</td>\n",
       "    </tr>\n",
       "    <tr>\n",
       "      <th>4</th>\n",
       "      <td>2020-02-04 10:00:00</td>\n",
       "      <td>2020-02-07 10:00:00</td>\n",
       "      <td>9208.892237</td>\n",
       "      <td>9751.618849</td>\n",
       "      <td>263.852209</td>\n",
       "      <td>14.684702</td>\n",
       "      <td>0.058935</td>\n",
       "    </tr>\n",
       "    <tr>\n",
       "      <th>5</th>\n",
       "      <td>2020-02-08 10:00:00</td>\n",
       "      <td>2020-02-09 10:00:00</td>\n",
       "      <td>9819.497716</td>\n",
       "      <td>10041.326909</td>\n",
       "      <td>269.812812</td>\n",
       "      <td>5.960602</td>\n",
       "      <td>0.022591</td>\n",
       "    </tr>\n",
       "    <tr>\n",
       "      <th>6</th>\n",
       "      <td>2020-02-11 10:00:00</td>\n",
       "      <td>2020-02-13 10:00:00</td>\n",
       "      <td>9819.107917</td>\n",
       "      <td>10118.744532</td>\n",
       "      <td>278.046329</td>\n",
       "      <td>8.233518</td>\n",
       "      <td>0.030516</td>\n",
       "    </tr>\n",
       "    <tr>\n",
       "      <th>7</th>\n",
       "      <td>2020-02-17 10:00:00</td>\n",
       "      <td>2020-02-19 10:00:00</td>\n",
       "      <td>9767.435061</td>\n",
       "      <td>10074.506585</td>\n",
       "      <td>286.787632</td>\n",
       "      <td>8.741303</td>\n",
       "      <td>0.031438</td>\n",
       "    </tr>\n",
       "    <tr>\n",
       "      <th>8</th>\n",
       "      <td>2020-02-21 10:00:00</td>\n",
       "      <td>2020-02-24 10:00:00</td>\n",
       "      <td>9704.414941</td>\n",
       "      <td>9712.027397</td>\n",
       "      <td>287.012598</td>\n",
       "      <td>0.224965</td>\n",
       "      <td>0.000784</td>\n",
       "    </tr>\n",
       "    <tr>\n",
       "      <th>9</th>\n",
       "      <td>2020-02-28 10:00:00</td>\n",
       "      <td>2020-03-06 10:00:00</td>\n",
       "      <td>8620.244783</td>\n",
       "      <td>9109.852196</td>\n",
       "      <td>303.314165</td>\n",
       "      <td>16.301567</td>\n",
       "      <td>0.056797</td>\n",
       "    </tr>\n",
       "    <tr>\n",
       "      <th>10</th>\n",
       "      <td>2020-03-10 10:00:00</td>\n",
       "      <td>2020-03-11 10:00:00</td>\n",
       "      <td>8048.154973</td>\n",
       "      <td>7792.497649</td>\n",
       "      <td>293.679101</td>\n",
       "      <td>-9.635064</td>\n",
       "      <td>-0.031766</td>\n",
       "    </tr>\n",
       "    <tr>\n",
       "      <th>11</th>\n",
       "      <td>2020-03-13 10:00:00</td>\n",
       "      <td>2020-03-20 10:00:00</td>\n",
       "      <td>5652.817937</td>\n",
       "      <td>6801.950224</td>\n",
       "      <td>353.379615</td>\n",
       "      <td>59.700514</td>\n",
       "      <td>0.203285</td>\n",
       "    </tr>\n",
       "    <tr>\n",
       "      <th>12</th>\n",
       "      <td>2020-03-23 10:00:00</td>\n",
       "      <td>2020-03-25 10:00:00</td>\n",
       "      <td>5867.735294</td>\n",
       "      <td>6587.066304</td>\n",
       "      <td>396.700743</td>\n",
       "      <td>43.321129</td>\n",
       "      <td>0.122591</td>\n",
       "    </tr>\n",
       "    <tr>\n",
       "      <th>13</th>\n",
       "      <td>2020-03-29 09:00:00</td>\n",
       "      <td>2020-04-03 09:00:00</td>\n",
       "      <td>6149.887106</td>\n",
       "      <td>6919.031232</td>\n",
       "      <td>446.314670</td>\n",
       "      <td>49.613927</td>\n",
       "      <td>0.125066</td>\n",
       "    </tr>\n",
       "    <tr>\n",
       "      <th>14</th>\n",
       "      <td>2020-04-05 09:00:00</td>\n",
       "      <td>2020-04-07 09:00:00</td>\n",
       "      <td>6803.237280</td>\n",
       "      <td>7342.665793</td>\n",
       "      <td>481.702949</td>\n",
       "      <td>35.388279</td>\n",
       "      <td>0.079290</td>\n",
       "    </tr>\n",
       "    <tr>\n",
       "      <th>15</th>\n",
       "      <td>2020-04-11 09:00:00</td>\n",
       "      <td>2020-04-07 09:00:00</td>\n",
       "      <td>6876.204621</td>\n",
       "      <td>NaN</td>\n",
       "      <td>NaN</td>\n",
       "      <td>NaN</td>\n",
       "      <td>NaN</td>\n",
       "    </tr>\n",
       "  </tbody>\n",
       "</table>\n",
       "</div>"
      ],
      "text/plain": [
       "             Buy Dates          Sell Dates   Buy Prices   Sell Prices  \\\n",
       "0  2020-01-10 10:00:00 2020-01-12 10:00:00  7795.303217   8111.718249   \n",
       "1  2020-01-13 10:00:00 2020-01-15 10:00:00  8165.026612   8723.308437   \n",
       "2  2020-01-21 10:00:00 2020-01-22 10:00:00  8690.157882   8634.341646   \n",
       "3  2020-01-24 10:00:00 2020-01-29 10:00:00  8295.156315   9355.800567   \n",
       "4  2020-02-04 10:00:00 2020-02-07 10:00:00  9208.892237   9751.618849   \n",
       "5  2020-02-08 10:00:00 2020-02-09 10:00:00  9819.497716  10041.326909   \n",
       "6  2020-02-11 10:00:00 2020-02-13 10:00:00  9819.107917  10118.744532   \n",
       "7  2020-02-17 10:00:00 2020-02-19 10:00:00  9767.435061  10074.506585   \n",
       "8  2020-02-21 10:00:00 2020-02-24 10:00:00  9704.414941   9712.027397   \n",
       "9  2020-02-28 10:00:00 2020-03-06 10:00:00  8620.244783   9109.852196   \n",
       "10 2020-03-10 10:00:00 2020-03-11 10:00:00  8048.154973   7792.497649   \n",
       "11 2020-03-13 10:00:00 2020-03-20 10:00:00  5652.817937   6801.950224   \n",
       "12 2020-03-23 10:00:00 2020-03-25 10:00:00  5867.735294   6587.066304   \n",
       "13 2020-03-29 09:00:00 2020-04-03 09:00:00  6149.887106   6919.031232   \n",
       "14 2020-04-05 09:00:00 2020-04-07 09:00:00  6803.237280   7342.665793   \n",
       "15 2020-04-11 09:00:00 2020-04-07 09:00:00  6876.204621           NaN   \n",
       "\n",
       "    Trade Reward  Trade Win  Trade Efficiency  \n",
       "0     208.118094   8.118094          0.040590  \n",
       "1     222.348121  14.230027          0.068375  \n",
       "2     220.919996  -1.428125         -0.006423  \n",
       "3     249.167507  28.247512          0.127863  \n",
       "4     263.852209  14.684702          0.058935  \n",
       "5     269.812812   5.960602          0.022591  \n",
       "6     278.046329   8.233518          0.030516  \n",
       "7     286.787632   8.741303          0.031438  \n",
       "8     287.012598   0.224965          0.000784  \n",
       "9     303.314165  16.301567          0.056797  \n",
       "10    293.679101  -9.635064         -0.031766  \n",
       "11    353.379615  59.700514          0.203285  \n",
       "12    396.700743  43.321129          0.122591  \n",
       "13    446.314670  49.613927          0.125066  \n",
       "14    481.702949  35.388279          0.079290  \n",
       "15           NaN        NaN               NaN  "
      ]
     },
     "execution_count": 248,
     "metadata": {},
     "output_type": "execute_result"
    }
   ],
   "source": [
    "model.ticker_df['BTC-USD']"
   ]
  },
  {
   "cell_type": "code",
   "execution_count": 111,
   "metadata": {},
   "outputs": [
    {
     "data": {
      "image/png": "[encoded data removed]",
      "text/plain": [
       "<Figure size 432x288 with 1 Axes>"
      ]
     },
     "metadata": {
      "needs_background": "light"
     },
     "output_type": "display_data"
    }
   ],
   "source": [
    "for ticker in tickers:\n",
    "    plt.plot(model.grad[ticker], label=ticker)\n",
    "plt.legend()\n",
    "plt.grid()\n",
    "plt.show()"
   ]
  }
 ],
 "metadata": {
  "kernelspec": {
   "display_name": "Python 3",
   "language": "python",
   "name": "python3"
  },
  "language_info": {
   "codemirror_mode": {
    "name": "ipython",
    "version": 3
   },
   "file_extension": ".py",
   "mimetype": "text/x-python",
   "name": "python",
   "nbconvert_exporter": "python",
   "pygments_lexer": "ipython3",
   "version": "3.7.4"
  }
 },
 "nbformat": 4,
 "nbformat_minor": 2
}
