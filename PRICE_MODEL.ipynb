{
 "cells": [
  {
   "cell_type": "markdown",
   "metadata": {},
   "source": [
    "# STOCK/CRPYTO PRICE PREDICTION MODEL\n",
    "\n",
    "## The following code is an example on how to use simple data analysis tolls in order to set up a simple strategy for long and short term financial trading\n",
    "\n",
    "### We will make use of the programing language python (3.x) which suits nicely for data anlysis"
   ]
  },
  {
   "cell_type": "markdown",
   "metadata": {},
   "source": [
    "## --> This a very is simplified model for trading. One should always invest just as much money as one can afford to loose and do own studies in advance. "
   ]
  },
  {
   "cell_type": "markdown",
   "metadata": {},
   "source": [
    "## Required modules:\n",
    "- numpy: the code is designed to be vectorized such that the numpy module can be used and calculations performed fast\n",
    "- pandas: module for illustrative data frames\n",
    "- yfinance: api module provided by yahoo finance to get current and previous asset prices\n",
    "- matplotlib: (sub)module(s) for plots\n",
    "- scipy: (sub)module for statistical and signal analysis\n",
    "- datetime: (optional)"
   ]
  },
  {
   "cell_type": "code",
   "execution_count": 1,
   "metadata": {},
   "outputs": [],
   "source": [
    "%load_ext autoreload\n",
    "%autoreload 2"
   ]
  },
  {
   "cell_type": "code",
   "execution_count": 2,
   "metadata": {},
   "outputs": [],
   "source": [
    "from model import MODEL\n",
    "import utils\n",
    "import matplotlib.pyplot as plt\n",
    "import pandas as pd\n",
    "import numpy as np"
   ]
  },
  {
   "cell_type": "code",
   "execution_count": 12,
   "metadata": {},
   "outputs": [],
   "source": [
    "tickers = ['BTC-USD', 'LTC-USD', 'XRP-USD']\n",
    "#fix this for eval_model():\n",
    "#tickers = 'BTC-USD'\n",
    "model = MODEL(tickers=tickers)"
   ]
  },
  {
   "cell_type": "code",
   "execution_count": 31,
   "metadata": {},
   "outputs": [
    {
     "name": "stdout",
     "output_type": "stream",
     "text": [
      "[*********************100%***********************]  3 of 3 completed\n"
     ]
    }
   ],
   "source": [
    "start_date = '2020-01-01'\n",
    "model.get_data(start=start_date, interval='60m')"
   ]
  },
  {
   "cell_type": "code",
   "execution_count": 32,
   "metadata": {},
   "outputs": [
    {
     "name": "stdout",
     "output_type": "stream",
     "text": [
      "[INFO]: filter applied.\n"
     ]
    },
    {
     "data": {
      "text/html": [
       "<div>\n",
       "<style scoped>\n",
       "    .dataframe tbody tr th:only-of-type {\n",
       "        vertical-align: middle;\n",
       "    }\n",
       "\n",
       "    .dataframe tbody tr th {\n",
       "        vertical-align: top;\n",
       "    }\n",
       "\n",
       "    .dataframe thead th {\n",
       "        text-align: right;\n",
       "    }\n",
       "</style>\n",
       "<table border=\"1\" class=\"dataframe\">\n",
       "  <thead>\n",
       "    <tr style=\"text-align: right;\">\n",
       "      <th></th>\n",
       "      <th>BTC-USD</th>\n",
       "      <th>LTC-USD</th>\n",
       "      <th>XRP-USD</th>\n",
       "    </tr>\n",
       "    <tr>\n",
       "      <th>Datetime</th>\n",
       "      <th></th>\n",
       "      <th></th>\n",
       "      <th></th>\n",
       "    </tr>\n",
       "  </thead>\n",
       "  <tbody>\n",
       "    <tr>\n",
       "      <th>2020-04-09 10:00:00+01:00</th>\n",
       "      <td>7310.053223</td>\n",
       "      <td>46.071396</td>\n",
       "      <td>0.199285</td>\n",
       "    </tr>\n",
       "    <tr>\n",
       "      <th>2020-04-10 10:00:00+01:00</th>\n",
       "      <td>6921.935059</td>\n",
       "      <td>42.448723</td>\n",
       "      <td>0.188029</td>\n",
       "    </tr>\n",
       "    <tr>\n",
       "      <th>2020-04-11 10:00:00+01:00</th>\n",
       "      <td>6856.321289</td>\n",
       "      <td>42.360161</td>\n",
       "      <td>0.189060</td>\n",
       "    </tr>\n",
       "    <tr>\n",
       "      <th>2020-04-12 10:00:00+01:00</th>\n",
       "      <td>6858.593262</td>\n",
       "      <td>42.519077</td>\n",
       "      <td>0.191863</td>\n",
       "    </tr>\n",
       "    <tr>\n",
       "      <th>2020-04-13 10:00:00+01:00</th>\n",
       "      <td>6700.472168</td>\n",
       "      <td>40.133270</td>\n",
       "      <td>0.182317</td>\n",
       "    </tr>\n",
       "  </tbody>\n",
       "</table>\n",
       "</div>"
      ],
      "text/plain": [
       "                               BTC-USD    LTC-USD   XRP-USD\n",
       "Datetime                                                   \n",
       "2020-04-09 10:00:00+01:00  7310.053223  46.071396  0.199285\n",
       "2020-04-10 10:00:00+01:00  6921.935059  42.448723  0.188029\n",
       "2020-04-11 10:00:00+01:00  6856.321289  42.360161  0.189060\n",
       "2020-04-12 10:00:00+01:00  6858.593262  42.519077  0.191863\n",
       "2020-04-13 10:00:00+01:00  6700.472168  40.133270  0.182317"
      ]
     },
     "execution_count": 32,
     "metadata": {},
     "output_type": "execute_result"
    }
   ],
   "source": [
    "day_hour = 10\n",
    "start_date_range = pd.Timestamp(2020, 1, 1, day_hour)\n",
    "date_range = utils.create_date_range(start_date=start_date_range)\n",
    "model.apply_date_filter(date_range)\n",
    "model.data.tail()"
   ]
  },
  {
   "cell_type": "code",
   "execution_count": 33,
   "metadata": {},
   "outputs": [
    {
     "name": "stdout",
     "output_type": "stream",
     "text": [
      "==================================================================================\n",
      "|                                  PRICE MODEL                                   |\n",
      "|                                  Version 0.3                                   |\n",
      "|                   Authors: Marco Rosenzweig & Patrick Lorenz                   |\n",
      "----------------------------------------------------------------------------------\n",
      "|                   ticker = ['BTC-USD', 'LTC-USD', 'XRP-USD']                   |\n",
      "|                             start date = 01/01/20                              |\n",
      "|                              end date = 04/13/20                               |\n",
      "|                      initial investment per ticker = 200                       |\n",
      "==================================================================================\n",
      "[TICKER]: BTC-USD\n",
      "[INFO]: Open position.\n",
      "[INFO]: No tax paid.\n",
      "[INFO]: Last entry of \"Sell Dates\" will be assigned equally as the penultimate one.\n",
      "----------------------------------------------------------------------------------\n",
      "[SUMMARY]: Average trade win: 6.6316065564%\n",
      "[SUMMARY]: Average trade loss: -1.9106645211%\n",
      "[SUMMARY]: Efficiency: 88.24%\n",
      "[SUMMARY]: NET WIN: 295.28\n",
      "==================================================================================\n",
      "[TICKER]: LTC-USD\n",
      "[INFO]: No tax paid.\n",
      "----------------------------------------------------------------------------------\n",
      "[SUMMARY]: Average trade win: 9.0126595189%\n",
      "[SUMMARY]: Average trade loss: -2.7829658127%\n",
      "[SUMMARY]: Efficiency: 88.89%\n",
      "[SUMMARY]: NET WIN: 535.90\n",
      "==================================================================================\n",
      "[TICKER]: XRP-USD\n",
      "[INFO]: No tax paid.\n",
      "----------------------------------------------------------------------------------\n",
      "[SUMMARY]: Average trade win: 6.8830036676%\n",
      "[SUMMARY]: Average trade loss: -1.1920336170%\n",
      "[SUMMARY]: Efficiency: 83.33%\n",
      "[SUMMARY]: NET WIN: 315.99\n",
      "==================================================================================\n"
     ]
    }
   ],
   "source": [
    "model.eval_model()"
   ]
  },
  {
   "cell_type": "code",
   "execution_count": 21,
   "metadata": {},
   "outputs": [
    {
     "data": {
      "text/html": [
       "<div>\n",
       "<style scoped>\n",
       "    .dataframe tbody tr th:only-of-type {\n",
       "        vertical-align: middle;\n",
       "    }\n",
       "\n",
       "    .dataframe tbody tr th {\n",
       "        vertical-align: top;\n",
       "    }\n",
       "\n",
       "    .dataframe thead th {\n",
       "        text-align: right;\n",
       "    }\n",
       "</style>\n",
       "<table border=\"1\" class=\"dataframe\">\n",
       "  <thead>\n",
       "    <tr style=\"text-align: right;\">\n",
       "      <th></th>\n",
       "      <th>Buy Dates</th>\n",
       "      <th>Sell Dates</th>\n",
       "      <th>Buy Prices</th>\n",
       "      <th>Sell Prices</th>\n",
       "      <th>Trade Reward</th>\n",
       "      <th>Trade Win</th>\n",
       "      <th>Trade Efficiency</th>\n",
       "    </tr>\n",
       "  </thead>\n",
       "  <tbody>\n",
       "    <tr>\n",
       "      <th>0</th>\n",
       "      <td>2020-01-10 17:00:00</td>\n",
       "      <td>2020-01-12 17:00:00</td>\n",
       "      <td>7974.970696</td>\n",
       "      <td>8099.659230</td>\n",
       "      <td>203.126997</td>\n",
       "      <td>3.126997</td>\n",
       "      <td>0.015635</td>\n",
       "    </tr>\n",
       "    <tr>\n",
       "      <th>1</th>\n",
       "      <td>2020-01-13 17:00:00</td>\n",
       "      <td>2020-01-15 17:00:00</td>\n",
       "      <td>8160.049818</td>\n",
       "      <td>8732.889162</td>\n",
       "      <td>217.386608</td>\n",
       "      <td>14.259611</td>\n",
       "      <td>0.070200</td>\n",
       "    </tr>\n",
       "    <tr>\n",
       "      <th>2</th>\n",
       "      <td>2020-01-20 17:00:00</td>\n",
       "      <td>2020-01-22 17:00:00</td>\n",
       "      <td>8673.141881</td>\n",
       "      <td>8645.649739</td>\n",
       "      <td>216.697535</td>\n",
       "      <td>-0.689072</td>\n",
       "      <td>-0.003170</td>\n",
       "    </tr>\n",
       "    <tr>\n",
       "      <th>3</th>\n",
       "      <td>2020-01-24 17:00:00</td>\n",
       "      <td>2020-01-29 17:00:00</td>\n",
       "      <td>8499.971217</td>\n",
       "      <td>9293.056344</td>\n",
       "      <td>236.916379</td>\n",
       "      <td>20.218844</td>\n",
       "      <td>0.093304</td>\n",
       "    </tr>\n",
       "    <tr>\n",
       "      <th>4</th>\n",
       "      <td>2020-02-04 17:00:00</td>\n",
       "      <td>2020-02-07 17:00:00</td>\n",
       "      <td>9230.929593</td>\n",
       "      <td>9729.665613</td>\n",
       "      <td>249.716686</td>\n",
       "      <td>12.800307</td>\n",
       "      <td>0.054029</td>\n",
       "    </tr>\n",
       "    <tr>\n",
       "      <th>5</th>\n",
       "      <td>2020-02-08 17:00:00</td>\n",
       "      <td>2020-02-09 17:00:00</td>\n",
       "      <td>9871.124540</td>\n",
       "      <td>10043.792079</td>\n",
       "      <td>254.084777</td>\n",
       "      <td>4.368091</td>\n",
       "      <td>0.017492</td>\n",
       "    </tr>\n",
       "    <tr>\n",
       "      <th>6</th>\n",
       "      <td>2020-02-11 17:00:00</td>\n",
       "      <td>2020-02-13 17:00:00</td>\n",
       "      <td>10202.103086</td>\n",
       "      <td>10135.410678</td>\n",
       "      <td>252.423793</td>\n",
       "      <td>-1.660984</td>\n",
       "      <td>-0.006537</td>\n",
       "    </tr>\n",
       "    <tr>\n",
       "      <th>7</th>\n",
       "      <td>2020-02-17 17:00:00</td>\n",
       "      <td>2020-02-19 17:00:00</td>\n",
       "      <td>9650.532571</td>\n",
       "      <td>10108.291860</td>\n",
       "      <td>264.397157</td>\n",
       "      <td>11.973364</td>\n",
       "      <td>0.047434</td>\n",
       "    </tr>\n",
       "    <tr>\n",
       "      <th>8</th>\n",
       "      <td>2020-02-21 17:00:00</td>\n",
       "      <td>2020-02-24 17:00:00</td>\n",
       "      <td>9730.362040</td>\n",
       "      <td>9592.414146</td>\n",
       "      <td>260.648783</td>\n",
       "      <td>-3.748373</td>\n",
       "      <td>-0.014177</td>\n",
       "    </tr>\n",
       "    <tr>\n",
       "      <th>9</th>\n",
       "      <td>2020-02-28 17:00:00</td>\n",
       "      <td>2020-03-03 17:00:00</td>\n",
       "      <td>8592.217449</td>\n",
       "      <td>8690.952104</td>\n",
       "      <td>263.643943</td>\n",
       "      <td>2.995160</td>\n",
       "      <td>0.011491</td>\n",
       "    </tr>\n",
       "    <tr>\n",
       "      <th>10</th>\n",
       "      <td>2020-03-04 17:00:00</td>\n",
       "      <td>2020-03-06 17:00:00</td>\n",
       "      <td>8768.767025</td>\n",
       "      <td>9043.291626</td>\n",
       "      <td>271.897869</td>\n",
       "      <td>8.253925</td>\n",
       "      <td>0.031307</td>\n",
       "    </tr>\n",
       "    <tr>\n",
       "      <th>11</th>\n",
       "      <td>2020-03-10 17:00:00</td>\n",
       "      <td>2020-03-11 17:00:00</td>\n",
       "      <td>7894.749469</td>\n",
       "      <td>7653.620879</td>\n",
       "      <td>263.593318</td>\n",
       "      <td>-8.304551</td>\n",
       "      <td>-0.030543</td>\n",
       "    </tr>\n",
       "    <tr>\n",
       "      <th>12</th>\n",
       "      <td>2020-03-13 17:00:00</td>\n",
       "      <td>2020-03-20 17:00:00</td>\n",
       "      <td>5245.240944</td>\n",
       "      <td>6391.193164</td>\n",
       "      <td>321.181778</td>\n",
       "      <td>57.588460</td>\n",
       "      <td>0.218475</td>\n",
       "    </tr>\n",
       "    <tr>\n",
       "      <th>13</th>\n",
       "      <td>2020-03-23 17:00:00</td>\n",
       "      <td>2020-03-24 17:00:00</td>\n",
       "      <td>6301.165364</td>\n",
       "      <td>6621.908221</td>\n",
       "      <td>337.530620</td>\n",
       "      <td>16.348843</td>\n",
       "      <td>0.050902</td>\n",
       "    </tr>\n",
       "    <tr>\n",
       "      <th>14</th>\n",
       "      <td>2020-03-29 16:00:00</td>\n",
       "      <td>2020-03-31 16:00:00</td>\n",
       "      <td>6134.094369</td>\n",
       "      <td>6425.313318</td>\n",
       "      <td>353.555042</td>\n",
       "      <td>16.024421</td>\n",
       "      <td>0.047475</td>\n",
       "    </tr>\n",
       "    <tr>\n",
       "      <th>15</th>\n",
       "      <td>2020-04-01 16:00:00</td>\n",
       "      <td>2020-04-03 16:00:00</td>\n",
       "      <td>6221.755076</td>\n",
       "      <td>6711.326539</td>\n",
       "      <td>381.375240</td>\n",
       "      <td>27.820198</td>\n",
       "      <td>0.078687</td>\n",
       "    </tr>\n",
       "    <tr>\n",
       "      <th>16</th>\n",
       "      <td>2020-04-05 16:00:00</td>\n",
       "      <td>2020-04-07 16:00:00</td>\n",
       "      <td>6809.890307</td>\n",
       "      <td>7306.305017</td>\n",
       "      <td>409.176022</td>\n",
       "      <td>27.800782</td>\n",
       "      <td>0.072896</td>\n",
       "    </tr>\n",
       "    <tr>\n",
       "      <th>17</th>\n",
       "      <td>2020-04-11 16:00:00</td>\n",
       "      <td>2020-04-07 16:00:00</td>\n",
       "      <td>6833.884493</td>\n",
       "      <td>NaN</td>\n",
       "      <td>NaN</td>\n",
       "      <td>NaN</td>\n",
       "      <td>NaN</td>\n",
       "    </tr>\n",
       "  </tbody>\n",
       "</table>\n",
       "</div>"
      ],
      "text/plain": [
       "             Buy Dates          Sell Dates    Buy Prices   Sell Prices  \\\n",
       "0  2020-01-10 17:00:00 2020-01-12 17:00:00   7974.970696   8099.659230   \n",
       "1  2020-01-13 17:00:00 2020-01-15 17:00:00   8160.049818   8732.889162   \n",
       "2  2020-01-20 17:00:00 2020-01-22 17:00:00   8673.141881   8645.649739   \n",
       "3  2020-01-24 17:00:00 2020-01-29 17:00:00   8499.971217   9293.056344   \n",
       "4  2020-02-04 17:00:00 2020-02-07 17:00:00   9230.929593   9729.665613   \n",
       "5  2020-02-08 17:00:00 2020-02-09 17:00:00   9871.124540  10043.792079   \n",
       "6  2020-02-11 17:00:00 2020-02-13 17:00:00  10202.103086  10135.410678   \n",
       "7  2020-02-17 17:00:00 2020-02-19 17:00:00   9650.532571  10108.291860   \n",
       "8  2020-02-21 17:00:00 2020-02-24 17:00:00   9730.362040   9592.414146   \n",
       "9  2020-02-28 17:00:00 2020-03-03 17:00:00   8592.217449   8690.952104   \n",
       "10 2020-03-04 17:00:00 2020-03-06 17:00:00   8768.767025   9043.291626   \n",
       "11 2020-03-10 17:00:00 2020-03-11 17:00:00   7894.749469   7653.620879   \n",
       "12 2020-03-13 17:00:00 2020-03-20 17:00:00   5245.240944   6391.193164   \n",
       "13 2020-03-23 17:00:00 2020-03-24 17:00:00   6301.165364   6621.908221   \n",
       "14 2020-03-29 16:00:00 2020-03-31 16:00:00   6134.094369   6425.313318   \n",
       "15 2020-04-01 16:00:00 2020-04-03 16:00:00   6221.755076   6711.326539   \n",
       "16 2020-04-05 16:00:00 2020-04-07 16:00:00   6809.890307   7306.305017   \n",
       "17 2020-04-11 16:00:00 2020-04-07 16:00:00   6833.884493           NaN   \n",
       "\n",
       "    Trade Reward  Trade Win  Trade Efficiency  \n",
       "0     203.126997   3.126997          0.015635  \n",
       "1     217.386608  14.259611          0.070200  \n",
       "2     216.697535  -0.689072         -0.003170  \n",
       "3     236.916379  20.218844          0.093304  \n",
       "4     249.716686  12.800307          0.054029  \n",
       "5     254.084777   4.368091          0.017492  \n",
       "6     252.423793  -1.660984         -0.006537  \n",
       "7     264.397157  11.973364          0.047434  \n",
       "8     260.648783  -3.748373         -0.014177  \n",
       "9     263.643943   2.995160          0.011491  \n",
       "10    271.897869   8.253925          0.031307  \n",
       "11    263.593318  -8.304551         -0.030543  \n",
       "12    321.181778  57.588460          0.218475  \n",
       "13    337.530620  16.348843          0.050902  \n",
       "14    353.555042  16.024421          0.047475  \n",
       "15    381.375240  27.820198          0.078687  \n",
       "16    409.176022  27.800782          0.072896  \n",
       "17           NaN        NaN               NaN  "
      ]
     },
     "execution_count": 21,
     "metadata": {},
     "output_type": "execute_result"
    }
   ],
   "source": [
    "model.ticker_df['BTC-USD']"
   ]
  },
  {
   "cell_type": "code",
   "execution_count": null,
   "metadata": {},
   "outputs": [],
   "source": [
    "imag_model = model.copy_model()"
   ]
  },
  {
   "cell_type": "code",
   "execution_count": null,
   "metadata": {},
   "outputs": [],
   "source": [
    "imag_model.append_timedelta(timedelta=1)"
   ]
  },
  {
   "cell_type": "code",
   "execution_count": null,
   "metadata": {},
   "outputs": [],
   "source": [
    "imag_model.data"
   ]
  },
  {
   "cell_type": "code",
   "execution_count": null,
   "metadata": {},
   "outputs": [],
   "source": [
    "imag_model.comp_break_values(['BTC-USD', 'LTC-USD'])"
   ]
  },
  {
   "cell_type": "code",
   "execution_count": null,
   "metadata": {},
   "outputs": [],
   "source": [
    "imag_model.data"
   ]
  },
  {
   "cell_type": "code",
   "execution_count": null,
   "metadata": {},
   "outputs": [],
   "source": [
    "imag_model.eval_model(tickers=['BTC-USD', 'LTC-USD'])"
   ]
  },
  {
   "cell_type": "code",
   "execution_count": null,
   "metadata": {},
   "outputs": [],
   "source": [
    "imag_model.ticker_df['BTC-USD']"
   ]
  },
  {
   "cell_type": "code",
   "execution_count": null,
   "metadata": {},
   "outputs": [],
   "source": [
    "imag_model.break_values"
   ]
  },
  {
   "cell_type": "code",
   "execution_count": null,
   "metadata": {},
   "outputs": [],
   "source": [
    "imag_model.data"
   ]
  },
  {
   "cell_type": "code",
   "execution_count": null,
   "metadata": {},
   "outputs": [],
   "source": [
    "imag_model.data['BTC-USD'][-1] = imag_model.break_values['BTC-USD'][0] + 1\n",
    "imag_model._init_model()\n",
    "imag_model.data.tail(1)"
   ]
  },
  {
   "cell_type": "code",
   "execution_count": null,
   "metadata": {},
   "outputs": [],
   "source": [
    "imag_model.eval_model(tickers=['BTC-USD'])"
   ]
  },
  {
   "cell_type": "code",
   "execution_count": null,
   "metadata": {},
   "outputs": [],
   "source": [
    "imag_model.ticker_df['BTC-USD']"
   ]
  },
  {
   "cell_type": "code",
   "execution_count": null,
   "metadata": {},
   "outputs": [],
   "source": [
    "import plotting"
   ]
  },
  {
   "cell_type": "code",
   "execution_count": null,
   "metadata": {},
   "outputs": [],
   "source": [
    "plotting.plot_model(imag_model)"
   ]
  },
  {
   "cell_type": "code",
   "execution_count": null,
   "metadata": {},
   "outputs": [],
   "source": []
  }
 ],
 "metadata": {
  "kernelspec": {
   "display_name": "Python 3",
   "language": "python",
   "name": "python3"
  },
  "language_info": {
   "codemirror_mode": {
    "name": "ipython",
    "version": 3
   },
   "file_extension": ".py",
   "mimetype": "text/x-python",
   "name": "python",
   "nbconvert_exporter": "python",
   "pygments_lexer": "ipython3",
   "version": "3.7.4"
  }
 },
 "nbformat": 4,
 "nbformat_minor": 2
}
