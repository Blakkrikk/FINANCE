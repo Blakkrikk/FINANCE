{
 "cells": [
  {
   "cell_type": "code",
   "execution_count": 1,
   "metadata": {},
   "outputs": [
    {
     "name": "stderr",
     "output_type": "stream",
     "text": [
      "/Users/xpatricklorenzx/opt/anaconda3/lib/python3.7/site-packages/statsmodels/tools/_testing.py:19: FutureWarning: pandas.util.testing is deprecated. Use the functions in the public API at pandas.testing instead.\n",
      "  import pandas.util.testing as tm\n"
     ]
    }
   ],
   "source": [
    "import pandas as pd\n",
    "import numpy as np\n",
    "import datetime\n",
    "import yfinance as yf\n",
    "import matplotlib.pyplot as plt\n",
    "import seaborn as sns\n",
    "import os\n",
    "from IPython.display import display\n",
    "from option_prediction import OUTPUT_FOLDER"
   ]
  },
  {
   "cell_type": "code",
   "execution_count": null,
   "metadata": {},
   "outputs": [],
   "source": [
    "OUTPUT_FOLDER_TF = \"Tensorflow_DataFrame_csv\"\n",
    "try:\n",
    "    os.mkdir(OUTPUT_FOLDER)\n",
    "except FileExistsError:\n",
    "    pass\n",
    "\n",
    "tf_df_setup = pd.DataFrame({})\n",
    "\n",
    "def tf_setup(OUTPUT_FOLDER_CPSP, output_folder_tf=OUTPUT_FOLDER_TF, export_table=True):\n",
    "    #Join all Option_Analysis_CPSP CSVs to create one large DF for Tensorflow\n",
    "    if os.path.isfile('{0}/{1}/Option_Weekly_{1}.csv'.format(OUTPUT_FOLDER, date)):\n",
    "        valid_oacpsp_dataFrames = pd.read_csv('{0}/{1}/Option_Weekly_{1}.csv'.format(OUTPUT_FOLDER, date), index_col=0)\n",
    "\n",
    "        for x in valid_oacpsp_dataFrames:\n",
    "            tf_df_setup = tf_df_setup.append(x, ignore_index=True)\n",
    "            \n",
    "    #folder_suffix shows date at which Tensorflow_DataFrame_csv_ was last updated\n",
    "    folder_suffix = date_of_interest.replace(\"-\", \"_\")\n",
    "    try:\n",
    "        folder = os.path.join(output_folder_tf, folder_suffix)\n",
    "        os.mkdir(folder)\n",
    "    except FileExistsError:\n",
    "        pass\n",
    "\n",
    "    table_name = os.path.join(folder, \"Tensorflow_DataFrame_csv_{}.csv\".format(folder_suffix))\n",
    "    if export_table:\n",
    "        tf_df_setup.to_csv(table_name)\n",
    "        print(\"Exported: {}\".format(table_name))\n",
    "    "
   ]
  }
 ],
 "metadata": {
  "kernelspec": {
   "display_name": "Python 3",
   "language": "python",
   "name": "python3"
  },
  "language_info": {
   "codemirror_mode": {
    "name": "ipython",
    "version": 3
   },
   "file_extension": ".py",
   "mimetype": "text/x-python",
   "name": "python",
   "nbconvert_exporter": "python",
   "pygments_lexer": "ipython3",
   "version": "3.7.4"
  }
 },
 "nbformat": 4,
 "nbformat_minor": 2
}
