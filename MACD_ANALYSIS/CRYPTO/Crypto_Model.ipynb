{
 "cells": [
  {
   "cell_type": "markdown",
   "metadata": {},
   "source": [
    "# FROM TERMINAL, RUN THIS LINE:\n",
    "jupyter nbconvert --execute --to html CRYPTO_MODEL_AUTOGEN.ipynb"
   ]
  },
  {
   "cell_type": "code",
   "execution_count": null,
   "metadata": {},
   "outputs": [],
   "source": [
    "%%javascript\n",
    "IPython.OutputArea.auto_scroll_threshold = 9999"
   ]
  },
  {
   "cell_type": "code",
   "execution_count": null,
   "metadata": {},
   "outputs": [],
   "source": [
    "from model import MODEL\n",
    "import utils, plotting, fstats\n",
    "import pandas as pd"
   ]
  },
  {
   "cell_type": "code",
   "execution_count": null,
   "metadata": {},
   "outputs": [],
   "source": [
    "#your intra-day time at which to evaluate the model.\n",
    "day_hour = 18\n",
    "#your tickers of interest\n",
    "tickers = ['BTC-USD']"
   ]
  },
  {
   "cell_type": "code",
   "execution_count": null,
   "metadata": {},
   "outputs": [],
   "source": [
    "#do not edit below this cell!"
   ]
  },
  {
   "cell_type": "code",
   "execution_count": null,
   "metadata": {},
   "outputs": [],
   "source": [
    "#specify dates:\n",
    "todays_date = pd.Timestamp.today()\n",
    "start_date = todays_date - pd.Timedelta('200 days')\n",
    "filter_date = start_date.floor(freq='D').replace(hour=day_hour)\n",
    "#get data:\n",
    "model = MODEL(tickers=tickers)\n",
    "model.get_data(start=start_date, interval='60m')\n",
    "#filter by datetime:\n",
    "date_range = utils.create_date_range(start_date=filter_date)\n",
    "model.apply_date_filter(date_range, force_apply=True)"
   ]
  },
  {
   "cell_type": "code",
   "execution_count": null,
   "metadata": {},
   "outputs": [],
   "source": [
    "model.eval_model()"
   ]
  },
  {
   "cell_type": "code",
   "execution_count": null,
   "metadata": {},
   "outputs": [],
   "source": [
    "plot_date = todays_date - pd.Timedelta('30 days')\n",
    "plot_start = str(plot_date.date())"
   ]
  },
  {
   "cell_type": "code",
   "execution_count": null,
   "metadata": {},
   "outputs": [],
   "source": [
    "plotting.plot_model(model, tickers='BTC-USD', plot_from_date=plot_start)"
   ]
  },
  {
   "cell_type": "code",
   "execution_count": null,
   "metadata": {},
   "outputs": [],
   "source": [
    "imag_model = model.copy_model()\n",
    "imag_model.append_timedelta(timedelta=1)\n",
    "imag_model.comp_break_values(tickers='all', parallel_computing=True)\n",
    "imag_model._init_model()"
   ]
  },
  {
   "cell_type": "code",
   "execution_count": null,
   "metadata": {},
   "outputs": [],
   "source": [
    "imag_model.show_possibilities(plot_from_date=plot_start, switch_axes=False)"
   ]
  },
  {
   "cell_type": "code",
   "execution_count": null,
   "metadata": {
    "scrolled": false
   },
   "outputs": [],
   "source": [
    "fstats.calc_probs(model=imag_model, tickers='all', auto_update_tolerances=True)"
   ]
  }
 ],
 "metadata": {
  "kernelspec": {
   "display_name": "Python 3",
   "language": "python",
   "name": "python3"
  },
  "language_info": {
   "codemirror_mode": {
    "name": "ipython",
    "version": 3
   },
   "file_extension": ".py",
   "mimetype": "text/x-python",
   "name": "python",
   "nbconvert_exporter": "python",
   "pygments_lexer": "ipython3",
   "version": "3.7.4"
  }
 },
 "nbformat": 4,
 "nbformat_minor": 2
}
